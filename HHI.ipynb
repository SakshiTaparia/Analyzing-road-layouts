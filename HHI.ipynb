{
  "nbformat": 4,
  "nbformat_minor": 0,
  "metadata": {
    "colab": {
      "name": "HHI.ipynb",
      "provenance": [],
      "collapsed_sections": []
    },
    "kernelspec": {
      "name": "python3",
      "display_name": "Python 3"
    }
  },
  "cells": [
    {
      "cell_type": "code",
      "metadata": {
        "id": "eBYd0DCUPy6n",
        "colab_type": "code",
        "outputId": "e9045339-3b3f-43f4-a64b-fda0ed21f7a5",
        "colab": {
          "base_uri": "https://localhost:8080/",
          "height": 124
        }
      },
      "source": [
        "from google.colab import drive\n",
        "drive.mount('/content/drive')"
      ],
      "execution_count": 0,
      "outputs": [
        {
          "output_type": "stream",
          "text": [
            "Go to this URL in a browser: https://accounts.google.com/o/oauth2/auth?client_id=947318989803-6bn6qk8qdgf4n4g3pfee6491hc0brc4i.apps.googleusercontent.com&redirect_uri=urn%3aietf%3awg%3aoauth%3a2.0%3aoob&response_type=code&scope=email%20https%3a%2f%2fwww.googleapis.com%2fauth%2fdocs.test%20https%3a%2f%2fwww.googleapis.com%2fauth%2fdrive%20https%3a%2f%2fwww.googleapis.com%2fauth%2fdrive.photos.readonly%20https%3a%2f%2fwww.googleapis.com%2fauth%2fpeopleapi.readonly\n",
            "\n",
            "Enter your authorization code:\n",
            "··········\n",
            "Mounted at /content/drive\n"
          ],
          "name": "stdout"
        }
      ]
    },
    {
      "cell_type": "code",
      "metadata": {
        "id": "n6mv-oZQQBHK",
        "colab_type": "code",
        "outputId": "79a22fbc-176c-4240-c20d-142b255147f9",
        "colab": {
          "base_uri": "https://localhost:8080/",
          "height": 34
        }
      },
      "source": [
        "cd 'drive/My Drive/Data'"
      ],
      "execution_count": 0,
      "outputs": [
        {
          "output_type": "stream",
          "text": [
            "/content/drive/My Drive/Data\n"
          ],
          "name": "stdout"
        }
      ]
    },
    {
      "cell_type": "code",
      "metadata": {
        "id": "82GNMoHkrhvY",
        "colab_type": "code",
        "outputId": "8fa0e216-7398-450d-a5ac-d4a888e44c0c",
        "colab": {
          "base_uri": "https://localhost:8080/",
          "height": 139
        }
      },
      "source": [
        "import numpy as np\n",
        "import numpy\n",
        "\n",
        "import matplotlib.pyplot as plt\n",
        "\n",
        "original = numpy.loadtxt('Bangalore_2016.txt')\n",
        "\n",
        "original = numpy.array(original)\n",
        "\n",
        "print(original)\n",
        "\n",
        "# 0 - outside district\n",
        "# 1 - BU\n",
        "# 2 - NBU"
      ],
      "execution_count": 0,
      "outputs": [
        {
          "output_type": "stream",
          "text": [
            "[[0. 0. 0. ... 0. 0. 0.]\n",
            " [0. 0. 0. ... 0. 0. 0.]\n",
            " [0. 0. 0. ... 0. 0. 0.]\n",
            " ...\n",
            " [0. 0. 0. ... 0. 0. 0.]\n",
            " [0. 0. 0. ... 0. 0. 0.]\n",
            " [0. 0. 0. ... 0. 0. 0.]]\n"
          ],
          "name": "stdout"
        }
      ]
    },
    {
      "cell_type": "code",
      "metadata": {
        "id": "Lo1zjz9EsYi7",
        "colab_type": "code",
        "outputId": "ffc7b619-2778-4e5e-b849-42f6849ce160",
        "colab": {
          "base_uri": "https://localhost:8080/",
          "height": 34
        }
      },
      "source": [
        "print(original.shape)"
      ],
      "execution_count": 0,
      "outputs": [
        {
          "output_type": "stream",
          "text": [
            "(2188, 1893)\n"
          ],
          "name": "stdout"
        }
      ]
    },
    {
      "cell_type": "code",
      "metadata": {
        "id": "iHbrGQ-WrA0L",
        "colab_type": "code",
        "outputId": "1647418d-a18f-4c36-ee39-a8e9921f94f8",
        "colab": {
          "base_uri": "https://localhost:8080/",
          "height": 265
        }
      },
      "source": [
        "# All axis labels indicate the number of pixels\n",
        "from matplotlib import colors\n",
        "cmap = colors.ListedColormap(['black','darkred','darkred','darkorange','darkorange','white'])\n",
        "unique, counts=np.unique(original,return_counts=True)\n",
        "print(unique)\n",
        "plt.imshow(original,cmap=cmap)\n",
        "# plt.xlabel(\"Number of pixels\")\n",
        "# plt.ylabel(\"Number of pixels\")\n",
        "# plt.title(\"Delhi - BU/NBU\")\n",
        "plt.tick_params(\n",
        "    axis='x',          # changes apply to the x-axis\n",
        "    which='both',      # both major and minor ticks are affected\n",
        "    bottom=False,      # ticks along the bottom edge are off\n",
        "    top=False,         # ticks along the top edge are off\n",
        "    labelbottom=False)\n",
        "plt.tick_params(\n",
        "    axis='y',          # changes apply to the x-axis\n",
        "    which='both',      # both major and minor ticks are affected\n",
        "    left=False,      # ticks along the bottom edge are off\n",
        "    top=False,         # ticks along the top edge are off\n",
        "    labelleft=False)\n",
        "plt.show()"
      ],
      "execution_count": 0,
      "outputs": [
        {
          "output_type": "stream",
          "text": [
            "[  0. 100. 120. 200. 240. 255.]\n"
          ],
          "name": "stdout"
        },
        {
          "output_type": "display_data",
          "data": {
            "image/png": "[encoded data removed]",
            "text/plain": [
              "<Figure size 432x288 with 1 Axes>"
            ]
          },
          "metadata": {
            "tags": []
          }
        }
      ]
    },
    {
      "cell_type": "code",
      "metadata": {
        "id": "ZpC0i6hNsPP-",
        "colab_type": "code",
        "outputId": "4711b192-dee3-4810-d242-28e1f7552f06",
        "colab": {
          "base_uri": "https://localhost:8080/",
          "height": 139
        }
      },
      "source": [
        "mask = numpy.copy(original)\n",
        "\n",
        "for i in range (0, original.shape[0]):\n",
        "\n",
        "  for j in range (0, original.shape[1]):\n",
        "\n",
        "    if (original[i][j] > 0):\n",
        "      mask[i][j] = 1\n",
        "\n",
        "print(mask)\n",
        "\n",
        "# 0 - outside\n",
        "# 1 - inside"
      ],
      "execution_count": 0,
      "outputs": [
        {
          "output_type": "stream",
          "text": [
            "[[0. 0. 0. ... 0. 0. 0.]\n",
            " [0. 0. 0. ... 0. 0. 0.]\n",
            " [0. 0. 0. ... 0. 0. 0.]\n",
            " ...\n",
            " [0. 0. 0. ... 0. 0. 0.]\n",
            " [0. 0. 0. ... 0. 0. 0.]\n",
            " [0. 0. 0. ... 0. 0. 0.]]\n"
          ],
          "name": "stdout"
        }
      ]
    },
    {
      "cell_type": "code",
      "metadata": {
        "id": "oEyBPSuZsudZ",
        "colab_type": "code",
        "outputId": "ce6d42a2-33db-4199-db12-b60e031c9ee9",
        "colab": {
          "base_uri": "https://localhost:8080/",
          "height": 283
        }
      },
      "source": [
        "plt.imshow(mask,cmap=cmap)\n",
        "# plt.xlabel(\"Number of pixels\")\n",
        "# plt.ylabel(\"Number of pixels\")\n",
        "# plt.title(\"Mumbai - district boundary\")\n",
        "plt.tick_params(\n",
        "    axis='x',          # changes apply to the x-axis\n",
        "    which='both',      # both major and minor ticks are affected\n",
        "    bottom=False,      # ticks along the bottom edge are off\n",
        "    top=False,         # ticks along the top edge are off\n",
        "    labelbottom=False)\n",
        "plt.tick_params(\n",
        "    axis='y',          # changes apply to the x-axis\n",
        "    which='both',      # both major and minor ticks are affected\n",
        "    left=False,      # ticks along the bottom edge are off\n",
        "    top=False,         # ticks along the top edge are off\n",
        "    labelleft=False)\n",
        "plt.show()\n",
        "unique, counts=np.unique(mask,return_counts=True)\n",
        "print(unique)\n",
        "print(round(counts[1]*(0.0009),2))"
      ],
      "execution_count": 0,
      "outputs": [
        {
          "output_type": "display_data",
          "data": {
            "image/png": "[encoded data removed]",
            "text/plain": [
              "<Figure size 432x288 with 1 Axes>"
            ]
          },
          "metadata": {
            "tags": []
          }
        },
        {
          "output_type": "stream",
          "text": [
            "[0. 1.]\n",
            "2254.45\n"
          ],
          "name": "stdout"
        }
      ]
    },
    {
      "cell_type": "code",
      "metadata": {
        "id": "we1P4lsxrBPR",
        "colab_type": "code",
        "outputId": "fda6af2a-bac3-49d7-b905-2765b36d0c1a",
        "colab": {
          "base_uri": "https://localhost:8080/",
          "height": 269
        }
      },
      "source": [
        "urban = numpy.loadtxt('Bangalore_urban_extent_2016.txt')\n",
        "\n",
        "urban = numpy.array(urban)\n",
        "\n",
        "# 0 - urban\n",
        "# 1 - suburban\n",
        "# 2 - rural\n",
        "\n",
        "urban = urban + 1\n",
        "\n",
        "# 1 - urban\n",
        "# 2 - suburban\n",
        "# 3 - rural\n",
        "\n",
        "# 0 - rejected pixels\n",
        "\n",
        "urban[0][0] = 0\n",
        "\n",
        "plt.imshow(urban)\n",
        "plt.show()"
      ],
      "execution_count": 0,
      "outputs": [
        {
          "output_type": "display_data",
          "data": {
            "image/png": "[encoded data removed]",
            "text/plain": [
              "<Figure size 432x288 with 1 Axes>"
            ]
          },
          "metadata": {
            "tags": []
          }
        }
      ]
    },
    {
      "cell_type": "code",
      "metadata": {
        "id": "J4uG3wafs89Z",
        "colab_type": "code",
        "outputId": "9d3c2a25-16da-41d1-fac1-7bac42fafff4",
        "colab": {
          "base_uri": "https://localhost:8080/",
          "height": 52
        }
      },
      "source": [
        "print(urban.shape)\n",
        "print(mask.shape)"
      ],
      "execution_count": 0,
      "outputs": [
        {
          "output_type": "stream",
          "text": [
            "(2188, 1893)\n",
            "(2188, 1893)\n"
          ],
          "name": "stdout"
        }
      ]
    },
    {
      "cell_type": "code",
      "metadata": {
        "id": "pEERrN4Buj2_",
        "colab_type": "code",
        "outputId": "e64a01dd-9e25-4d07-88ba-241ad83167d3",
        "colab": {
          "base_uri": "https://localhost:8080/",
          "height": 283
        }
      },
      "source": [
        "import numpy as np\n",
        "urban_district = numpy.multiply(urban, mask)\n",
        "cmap = colors.ListedColormap(['black', 'darkred','darkorange','white'])\n",
        "plt.imshow(urban_district,cmap=cmap)\n",
        "unique, counts=np.unique(urban_district,return_counts=True)\n",
        "print(unique)\n",
        "print('urban footprint',round(((counts[1]+counts[2])*0.0009),2))\n",
        "# plt.xlabel(\"Number of pixels\")\n",
        "# plt.ylabel(\"Number of pixels\")\n",
        "# plt.title(\"Mumbai - urban extent\")\n",
        "plt.tick_params(\n",
        "    axis='x',          # changes apply to the x-axis\n",
        "    which='both',      # both major and minor ticks are affected\n",
        "    bottom=False,      # ticks along the bottom edge are off\n",
        "    top=False,         # ticks along the top edge are off\n",
        "    labelbottom=False)\n",
        "plt.tick_params(\n",
        "    axis='y',          # changes apply to the x-axis\n",
        "    which='both',      # both major and minor ticks are affected\n",
        "    left=False,      # ticks along the bottom edge are off\n",
        "    top=False,         # ticks along the top edge are off\n",
        "    labelleft=False)\n",
        "plt.show()"
      ],
      "execution_count": 0,
      "outputs": [
        {
          "output_type": "stream",
          "text": [
            "[0. 1. 2. 3. 4.]\n",
            "urban footprint 131.88\n"
          ],
          "name": "stdout"
        },
        {
          "output_type": "display_data",
          "data": {
            "image/png": "[encoded data removed]",
            "text/plain": [
              "<Figure size 432x288 with 1 Axes>"
            ]
          },
          "metadata": {
            "tags": []
          }
        }
      ]
    },
    {
      "cell_type": "code",
      "metadata": {
        "id": "kcilEK4Gq5KM",
        "colab_type": "code",
        "outputId": "1b48036a-1a85-4dbb-9a44-4160745ddce4",
        "colab": {
          "base_uri": "https://localhost:8080/",
          "height": 1000
        }
      },
      "source": [
        "import numpy\n",
        "\n",
        "f = open(\"usable_grids_Kolkata_latest.txt\", \"r\")\n",
        "\n",
        "# # Bangalore\n",
        "# lat1 = 12.6400\n",
        "# lon1 = 77.3200\n",
        "# lat2 = 13.2300\n",
        "# lon2 = 77.8300\n",
        "\n",
        "# Chandigarh\n",
        "# lat1 = 30.6600\n",
        "# lon1 = 76.6900\n",
        "# lat2 = 30.8000\n",
        "# lon2 = 76.8400\n",
        "\n",
        "# Chennai\n",
        "# lat1 = 12.9500\n",
        "# lon1 = 80.1600\n",
        "# lat2 = 13.1400\n",
        "# lon2 = 80.3100\n",
        "\n",
        "# Delhi\n",
        "# lat1 = 28.4000\n",
        "# lon1 = 76.8300\n",
        "# lat2 = 28.8900\n",
        "# lon2 = 77.3400\n",
        "\n",
        "# Gurgaon\n",
        "# lat1 = 28.2000\n",
        "# lon1 = 76.6300\n",
        "# lat2 = 28.5500\n",
        "# lon2 = 77.2400\n",
        "\n",
        "# hyderabad\n",
        "# lat1 = 17.2900\n",
        "# lon1 = 78.3800\n",
        "# lat2 = 17.4800\n",
        "# lon2 = 78.5400\n",
        "\n",
        "# Kolkata\n",
        "lat1 = 22.4900\n",
        "lon1 = 88.2700\n",
        "lat2 = 22.6300\n",
        "lon2 = 88.4100\n",
        "\n",
        "# Mumbai\n",
        "# lat1 = 18.8900\n",
        "# lon1 = 72.7700\n",
        "# lat2 = 19.2700\n",
        "# lon2 = 72.9900\n",
        "\n",
        "height = round((lat2-lat1)*100.0)\n",
        "width = round((lon2-lon1)*100.0)\n",
        "\n",
        "print(height)\n",
        "print(width)\n",
        "\n",
        "grids = int(f.readline())\n",
        "\n",
        "print(grids)\n",
        "\n",
        "X = []\n",
        "sparse_matrix = numpy.zeros((height, width))\n",
        "\n",
        "for x in range (0, grids):\n",
        "\n",
        "  value = int(f.readline())\n",
        "\n",
        "  x_coordinate = value // height\n",
        "  y_coordinate = value % height\n",
        "\n",
        "  X.append([x_coordinate, y_coordinate])\n",
        "  sparse_matrix[y_coordinate][x_coordinate] = 1\n",
        "\n",
        "X = numpy.array(X)\n",
        "\n",
        "print(X)"
      ],
      "execution_count": 0,
      "outputs": [
        {
          "output_type": "stream",
          "text": [
            "14\n",
            "14\n",
            "59\n",
            "[[ 1  5]\n",
            " [ 2  4]\n",
            " [ 3  3]\n",
            " [ 3  4]\n",
            " [ 4  3]\n",
            " [ 4  4]\n",
            " [ 5  4]\n",
            " [ 5  5]\n",
            " [ 6  1]\n",
            " [ 6  2]\n",
            " [ 7  1]\n",
            " [ 7  2]\n",
            " [ 7  3]\n",
            " [ 7  4]\n",
            " [ 8  1]\n",
            " [ 8  2]\n",
            " [ 8  3]\n",
            " [ 8  4]\n",
            " [ 8  5]\n",
            " [ 8  6]\n",
            " [ 8  7]\n",
            " [ 8  8]\n",
            " [ 8  9]\n",
            " [ 8 10]\n",
            " [ 9  1]\n",
            " [ 9  2]\n",
            " [ 9  3]\n",
            " [ 9  4]\n",
            " [ 9  5]\n",
            " [ 9  6]\n",
            " [ 9  7]\n",
            " [ 9  8]\n",
            " [ 9  9]\n",
            " [ 9 10]\n",
            " [ 9 11]\n",
            " [10  3]\n",
            " [10  4]\n",
            " [10  5]\n",
            " [10  6]\n",
            " [10  7]\n",
            " [10  8]\n",
            " [10  9]\n",
            " [10 10]\n",
            " [10 11]\n",
            " [10 12]\n",
            " [10 13]\n",
            " [11  4]\n",
            " [11  5]\n",
            " [11  6]\n",
            " [11  7]\n",
            " [11  8]\n",
            " [11  9]\n",
            " [11 10]\n",
            " [11 11]\n",
            " [11 12]\n",
            " [11 13]\n",
            " [12  6]\n",
            " [12  7]\n",
            " [12  8]]\n"
          ],
          "name": "stdout"
        }
      ]
    },
    {
      "cell_type": "code",
      "metadata": {
        "id": "58-n0sJFV3Q9",
        "colab_type": "code",
        "outputId": "5bc9da31-ab00-42ed-d2a4-7e8337774f73",
        "colab": {
          "base_uri": "https://localhost:8080/",
          "height": 295
        }
      },
      "source": [
        "import matplotlib.pyplot as plt\n",
        "\n",
        "plt.scatter(X[:, 0], X[:, 1], marker=\"s\", c = 'g')\n",
        "plt.gca().set_aspect('equal', adjustable='box')\n",
        "plt.xlim(0, width-1)\n",
        "plt.ylim(0, height-1)\n",
        "plt.xlabel(\"Number of grids\")\n",
        "plt.ylabel(\"Number of grids\")\n",
        "plt.title(\"Mumbai - grid selection\")\n",
        "plt.draw()"
      ],
      "execution_count": 0,
      "outputs": [
        {
          "output_type": "display_data",
          "data": {
            "image/png": "[encoded data removed]",
            "text/plain": [
              "<Figure size 432x288 with 1 Axes>"
            ]
          },
          "metadata": {
            "tags": []
          }
        }
      ]
    },
    {
      "cell_type": "code",
      "metadata": {
        "id": "pHCb3dF1enAE",
        "colab_type": "code",
        "outputId": "8d60d78c-7d8c-4f33-8bd1-4bf5bc5a4686",
        "colab": {
          "base_uri": "https://localhost:8080/",
          "height": 265
        }
      },
      "source": [
        "unique = np.unique(sparse_matrix)\n",
        "print(unique)\n",
        "cmap = colors.ListedColormap(['black', 'darkred','darkorange'])\n",
        "plt.imshow(sparse_matrix,cmap=cmap)\n",
        "plt.xlim(0, width-1)\n",
        "plt.ylim(0, height-1)\n",
        "# plt.xlabel(\"Number of grids\")\n",
        "# plt.ylabel(\"Number of grids\")\n",
        "# plt.title(\"Mumbai - grid selection\")\n",
        "plt.tick_params(\n",
        "    axis='x',          # changes apply to the x-axis\n",
        "    which='both',      # both major and minor ticks are affected\n",
        "    bottom=False,      # ticks along the bottom edge are off\n",
        "    top=False,         # ticks along the top edge are off\n",
        "    labelbottom=False)\n",
        "plt.tick_params(\n",
        "    axis='y',          # changes apply to the x-axis\n",
        "    which='both',      # both major and minor ticks are affected\n",
        "    left=False,      # ticks along the bottom edge are off\n",
        "    top=False,         # ticks along the top edge are off\n",
        "    labelleft=False)\n",
        "plt.show()"
      ],
      "execution_count": 0,
      "outputs": [
        {
          "output_type": "stream",
          "text": [
            "[0. 1.]\n"
          ],
          "name": "stdout"
        },
        {
          "output_type": "display_data",
          "data": {
            "image/png": "[encoded data removed]",
            "text/plain": [
              "<Figure size 432x288 with 1 Axes>"
            ]
          },
          "metadata": {
            "tags": []
          }
        }
      ]
    },
    {
      "cell_type": "code",
      "metadata": {
        "id": "o-kpBfDgJFSj",
        "colab_type": "code",
        "outputId": "8277308d-5ba0-4bde-b7f3-b220b4760c66",
        "colab": {
          "base_uri": "https://localhost:8080/",
          "height": 153
        }
      },
      "source": [
        "from numpy import genfromtxt\n",
        "def classify(path):\n",
        "    inp2 = genfromtxt(path, dtype='U')\n",
        "    s = 0\n",
        "    usable_2019 = set()\n",
        "    for i in range(s+1,s+int(inp2[s])+1):\n",
        "        usable_2019.add(int(inp2[i]))\n",
        "    s = s + len(usable_2019) + 1\n",
        "    print(\"Usable : \", len(usable_2019))\n",
        "    urban_2019 = set()\n",
        "    for i in range(s+1,s+int(inp2[s])+1):\n",
        "        urban_2019.add(int(inp2[i]))\n",
        "    s = s + len(urban_2019) + 1\n",
        "    print(\"Urban : \", len(urban_2019))\n",
        "    sub_2019 = set()\n",
        "    for i in range(s+1,s+int(inp2[s])+1):\n",
        "        sub_2019.add(int(inp2[i]))\n",
        "    s = s + len(sub_2019) + 1\n",
        "    print(\"Sub_Urban : \", len(sub_2019))\n",
        "    rural_2019 = set()\n",
        "    for i in range(s+1,s+int(inp2[s])+1):\n",
        "        rural_2019.add(int(inp2[i]))\n",
        "    s = s + len(rural_2019) + 1\n",
        "    print(\"Rural : \", len(rural_2019))\n",
        "    disc_2019 = set()\n",
        "    for i in range(s+1,s+int(inp2[s])+1):\n",
        "        disc_2019.add(int(inp2[i]))\n",
        "    s = s + len(disc_2019) + 1\n",
        "    print(\"Discarded : \", len(disc_2019))\n",
        "    print(\"Area under analysis\",(len(usable_2019)+len(rural_2019))*1)\n",
        "    print(\"Selected area\",(len(usable_2019))*1)\n",
        "    print(\"=====================\")\n",
        "    return usable_2019,urban_2019,sub_2019,rural_2019,disc_2019\n",
        "\n",
        "a1,b1,c1,d1,e1 = classify(\"usable_grids_Kolkata_latest.txt\")"
      ],
      "execution_count": 0,
      "outputs": [
        {
          "output_type": "stream",
          "text": [
            "Usable :  59\n",
            "Urban :  15\n",
            "Sub_Urban :  44\n",
            "Rural :  20\n",
            "Discarded :  117\n",
            "Area under analysis 79\n",
            "Selected area 59\n",
            "=====================\n"
          ],
          "name": "stdout"
        }
      ]
    },
    {
      "cell_type": "code",
      "metadata": {
        "id": "2VtVsLntJ8QU",
        "colab_type": "code",
        "colab": {}
      },
      "source": [
        "urb_sub_matrix = numpy.zeros((height, width))\n",
        "for value in b1:\n",
        "  x_coordinate = value // height\n",
        "  y_coordinate = value % height\n",
        "  urb_sub_matrix[y_coordinate][x_coordinate] = 1\n",
        "\n",
        "for value in c1:\n",
        "  x_coordinate = value // height\n",
        "  y_coordinate = value % height\n",
        "  urb_sub_matrix[y_coordinate][x_coordinate] = 2"
      ],
      "execution_count": 0,
      "outputs": []
    },
    {
      "cell_type": "code",
      "metadata": {
        "id": "BAEc8xN1bj7q",
        "colab_type": "code",
        "outputId": "459b9369-01e2-4549-a6f6-6df7b659b2c8",
        "colab": {
          "base_uri": "https://localhost:8080/",
          "height": 238
        }
      },
      "source": [
        "unique = np.unique(urb_sub_matrix)\n",
        "print(unique)\n",
        "cmap = colors.ListedColormap(['black', 'darkred','darkorange'])\n",
        "plt.imshow(urb_sub_matrix,cmap=cmap)\n",
        "plt.xlim(0, width-1)\n",
        "plt.ylim(0, height-1)\n",
        "# plt.xlabel(\"Number of grids\")\n",
        "# plt.ylabel(\"Number of grids\")\n",
        "# plt.title(\"Mumbai - grid selection\")\n",
        "plt.tick_params(\n",
        "    axis='x',          # changes apply to the x-axis\n",
        "    which='both',      # both major and minor ticks are affected\n",
        "    bottom=False,      # ticks along the bottom edge are off\n",
        "    top=False,         # ticks along the top edge are off\n",
        "    labelbottom=False)\n",
        "plt.tick_params(\n",
        "    axis='y',          # changes apply to the x-axis\n",
        "    which='both',      # both major and minor ticks are affected\n",
        "    left=False,      # ticks along the bottom edge are off\n",
        "    top=False,         # ticks along the top edge are off\n",
        "    labelleft=False)\n",
        "plt.show()"
      ],
      "execution_count": 0,
      "outputs": [
        {
          "output_type": "stream",
          "text": [
            "[0. 1. 2.]\n"
          ],
          "name": "stdout"
        },
        {
          "output_type": "display_data",
          "data": {
            "image/png": "[encoded data removed]",
            "text/plain": [
              "<Figure size 432x288 with 1 Axes>"
            ]
          },
          "metadata": {
            "tags": []
          }
        }
      ]
    },
    {
      "cell_type": "code",
      "metadata": {
        "id": "ZKSS9g8sNLD6",
        "colab_type": "code",
        "colab": {}
      },
      "source": [
        "# calculate distortion for a range of number of cluster\n",
        "\n",
        "# from sklearn.cluster import KMeans\n",
        "\n",
        "# distortions = []\n",
        "\n",
        "# for i in range(1, 11):\n",
        "#     km = KMeans(\n",
        "#         n_clusters=i, init='random',\n",
        "#         n_init=10, max_iter=300,\n",
        "#         tol=1e-04, random_state=0\n",
        "#     )\n",
        "    \n",
        "#     km.fit(X)\n",
        "#     distortions.append(km.inertia_)\n",
        "\n",
        "# # plot\n",
        "\n",
        "# plt.plot(range(1, 11), distortions, marker='o')\n",
        "# plt.xlabel('Number of clusters')\n",
        "# plt.ylabel('Distortion')\n",
        "# plt.show()"
      ],
      "execution_count": 0,
      "outputs": []
    },
    {
      "cell_type": "code",
      "metadata": {
        "id": "yk0ldYrn0kFj",
        "colab_type": "code",
        "colab": {}
      },
      "source": [
        "# km = KMeans(\n",
        "#     n_clusters=3, init='random',\n",
        "#     n_init=10, max_iter=300, \n",
        "#     tol=1e-04, random_state=0\n",
        "# )\n",
        "# y_km = km.fit_predict(X)\n",
        "\n",
        "# # plot the clusters\n",
        "\n",
        "# plt.scatter(\n",
        "#     X[y_km == 0, 0], X[y_km == 0, 1],\n",
        "#     s=50, c='lightgreen',\n",
        "#     marker='s', edgecolor='black',\n",
        "#     label='cluster 1'\n",
        "# )\n",
        "\n",
        "# plt.scatter(\n",
        "#     X[y_km == 1, 0], X[y_km == 1, 1],\n",
        "#     s=50, c='orange',\n",
        "#     marker='o', edgecolor='black',\n",
        "#     label='cluster 2'\n",
        "# )\n",
        "\n",
        "# plt.scatter(\n",
        "#     X[y_km == 2, 0], X[y_km == 2, 1],\n",
        "#     s=50, c='lightblue',\n",
        "#     marker='v', edgecolor='black',\n",
        "#     label='cluster 3'\n",
        "# )\n",
        "\n",
        "# plt.scatter(\n",
        "#     X[y_km == 3, 0], X[y_km == 3, 1],\n",
        "#     s=50, c='red',\n",
        "#     marker='v', edgecolor='black',\n",
        "#     label='cluster 4'\n",
        "# )\n",
        "\n",
        "# plt.legend()\n",
        "# plt.xlim(0, width-1)\n",
        "# plt.ylim(0, height-1)\n",
        "# plt.gca().set_aspect('equal', adjustable='box')\n",
        "# plt.show()"
      ],
      "execution_count": 0,
      "outputs": []
    },
    {
      "cell_type": "code",
      "metadata": {
        "id": "kQjEWyVjSK10",
        "colab_type": "code",
        "colab": {}
      },
      "source": [
        "# from sklearn.cluster import OPTICS\n",
        "\n",
        "# op = OPTICS(min_samples=6)\n",
        "\n",
        "# y_op = op.fit_predict(X)\n",
        "\n",
        "# plt.scatter(\n",
        "#     X[y_op == -1, 0], X[y_op == -1, 1],\n",
        "#     s=50, c='black',\n",
        "#     marker='s', edgecolor='black',\n",
        "#     label='cluster 0'\n",
        "# )\n",
        "# plt.scatter(\n",
        "#     X[y_op == 0, 0], X[y_op == 0, 1],\n",
        "#     s=50, c='lightgreen',\n",
        "#     marker='o', edgecolor='black',\n",
        "#     label='cluster 1'\n",
        "# )\n",
        "\n",
        "# plt.scatter(\n",
        "#     X[y_op == 1, 0], X[y_op == 1, 1],\n",
        "#     s=50, c='orange',\n",
        "#     marker='v', edgecolor='black',\n",
        "#     label='cluster 2'\n",
        "# )\n",
        "\n",
        "# plt.scatter(\n",
        "#     X[y_op == 2, 0], X[y_op == 2, 1],\n",
        "#     s=50, c='lightblue',\n",
        "#     marker='s', edgecolor='black',\n",
        "#     label='cluster 3'\n",
        "# )\n",
        "\n",
        "# plt.scatter(\n",
        "#     X[y_op == 3, 0], X[y_op == 3, 1],\n",
        "#     s=50, c='pink',\n",
        "#     marker='o', edgecolor='black',\n",
        "#     label='cluster 4'\n",
        "# )\n",
        "\n",
        "# plt.scatter(\n",
        "#     X[y_op == 4, 0], X[y_op == 4, 1],\n",
        "#     s=50, c='red',\n",
        "#     marker='v', edgecolor='black',\n",
        "#     label='cluster 5'\n",
        "# )\n",
        "\n",
        "\n",
        "# plt.scatter(\n",
        "#     X[y_op == 5, 0], X[y_op == 5, 1],\n",
        "#     s=50, c='blue',\n",
        "#     marker='s', edgecolor='black',\n",
        "#     label='cluster 6'\n",
        "# )\n",
        "\n",
        "\n",
        "# plt.scatter(\n",
        "#     X[y_op == 6, 0], X[y_op == 6, 1],\n",
        "#     s=50, c='green',\n",
        "#     marker='o', edgecolor='black',\n",
        "#     label='cluster 7'\n",
        "# )\n",
        "\n",
        "# plt.scatter(\n",
        "#     X[y_op == 7, 0], X[y_op == 7, 1],\n",
        "#     s=50, c='purple',\n",
        "#     marker='v', edgecolor='black',\n",
        "#     label='cluster 8'\n",
        "# )\n",
        "\n",
        "# plt.scatter(\n",
        "#     X[y_op == 8, 0], X[y_op == 8, 1],\n",
        "#     s=50, c='cyan',\n",
        "#     marker='s', edgecolor='black',\n",
        "#     label='cluster 9'\n",
        "# )\n",
        "\n",
        "# # plt.legend()\n",
        "# plt.xlim(0, width-1)\n",
        "# plt.ylim(0, height-1)\n",
        "# plt.gca().set_aspect('equal', adjustable='box')\n",
        "# plt.show()"
      ],
      "execution_count": 0,
      "outputs": []
    },
    {
      "cell_type": "code",
      "metadata": {
        "id": "NGj1N9qmcPbw",
        "colab_type": "code",
        "outputId": "16383f68-94af-4913-f4b3-b031ddd3e686",
        "colab": {
          "base_uri": "https://localhost:8080/",
          "height": 34
        }
      },
      "source": [
        "from sklearn.cluster import OPTICS\n",
        "\n",
        "op = OPTICS(min_samples=5)\n",
        "\n",
        "y_op = op.fit_predict(X)\n",
        "lst=[0]*10\n",
        "y_op = y_op.tolist()\n",
        "sum = 0\n",
        "for i in range(10):\n",
        "  lst[i] = y_op.count(i)\n",
        "  sum = sum + lst[i]\n",
        "\n",
        "hhi = 0\n",
        "for i in range(10):\n",
        "  hhi = hhi + (lst[i]/sum)*(lst[i]/sum)*10000\n",
        "\n",
        "print(hhi)\n",
        "\n",
        "# denomr=0\n",
        "# for i in range(len(y_op)):\n",
        "#   if (y_op[i]>=0):\n",
        "#    lst[y_op[i]]=lst[y_op[i]]+1\n",
        "#    denomr=denomr+1\n",
        "# numr=0\n",
        "# for i in range(len(lst)):\n",
        "#   if (lst[i]>=1):\n",
        "#     numr=numr+lst[i]*lst[i]\n",
        "#     # denomr=denomr+lst[i]\n",
        "# hhi=numr/(denomr*denomr)\n",
        "# print(y_op)\n",
        "# print(hhi)\n",
        "# \"-1\" is rejected and then total grids are computed\n",
        "# COnsider every grid of unit area"
      ],
      "execution_count": 0,
      "outputs": [
        {
          "output_type": "stream",
          "text": [
            "7508.680555555556\n"
          ],
          "name": "stdout"
        }
      ]
    },
    {
      "cell_type": "code",
      "metadata": {
        "id": "Y8Q78V-0cdyf",
        "colab_type": "code",
        "outputId": "490e5843-0bfc-49b8-acff-bfd7d0671d11",
        "colab": {
          "base_uri": "https://localhost:8080/",
          "height": 278
        }
      },
      "source": [
        "from sklearn.cluster import OPTICS\n",
        "\n",
        "op = OPTICS(min_samples=4)\n",
        "\n",
        "y_op = op.fit_predict(X)\n",
        "\n",
        "print(y_op)\n",
        "\n",
        "plt.scatter(\n",
        "    X[y_op == -1, 0], X[y_op == -1, 1],\n",
        "    s=50, c='black',\n",
        "    marker='s', edgecolor='black',\n",
        "    label='cluster 0'\n",
        ")\n",
        "plt.scatter(\n",
        "    X[y_op == 0, 0], X[y_op == 0, 1],\n",
        "    s=50, c='lightgreen',\n",
        "    marker='s', edgecolor='black',\n",
        "    label='cluster 1'\n",
        ")\n",
        "\n",
        "plt.scatter(\n",
        "    X[y_op == 1, 0], X[y_op == 1, 1],\n",
        "    s=50, c='orange',\n",
        "    marker='s', edgecolor='black',\n",
        "    label='cluster 2'\n",
        ")\n",
        "\n",
        "plt.scatter(\n",
        "    X[y_op == 2, 0], X[y_op == 2, 1],\n",
        "    s=50, c='lightblue',\n",
        "    marker='s', edgecolor='black',\n",
        "    label='cluster 3'\n",
        ")\n",
        "\n",
        "plt.scatter(\n",
        "    X[y_op == 3, 0], X[y_op == 3, 1],\n",
        "    s=50, c='pink',\n",
        "    marker='s', edgecolor='black',\n",
        "    label='cluster 4'\n",
        ")\n",
        "\n",
        "plt.scatter(\n",
        "    X[y_op == 4, 0], X[y_op == 4, 1],\n",
        "    s=50, c='red',\n",
        "    marker='s', edgecolor='black',\n",
        "    label='cluster 5'\n",
        ")\n",
        "\n",
        "\n",
        "plt.scatter(\n",
        "    X[y_op == 5, 0], X[y_op == 5, 1],\n",
        "    s=50, c='blue',\n",
        "    marker='s', edgecolor='black',\n",
        "    label='cluster 6'\n",
        ")\n",
        "\n",
        "\n",
        "plt.scatter(\n",
        "    X[y_op == 6, 0], X[y_op == 6, 1],\n",
        "    s=50, c='green',\n",
        "    marker='s', edgecolor='black',\n",
        "    label='cluster 7'\n",
        ")\n",
        "\n",
        "plt.scatter(\n",
        "    X[y_op == 7, 0], X[y_op == 7, 1],\n",
        "    s=50, c='purple',\n",
        "    marker='s', edgecolor='black',\n",
        "    label='cluster 8'\n",
        ")\n",
        "\n",
        "plt.scatter(\n",
        "    X[y_op == 8, 0], X[y_op == 8, 1],\n",
        "    s=50, c='cyan',\n",
        "    marker='s', edgecolor='black',\n",
        "    label='cluster 9'\n",
        ")\n",
        "\n",
        "plt.legend(bbox_to_anchor=(1, 1), loc='upper left', ncol=1)\n",
        "plt.xlim(15, width-8)\n",
        "plt.ylim(23, height-15)\n",
        "plt.gca().set_aspect('equal', adjustable='box')\n",
        "plt.show()"
      ],
      "execution_count": 0,
      "outputs": [
        {
          "output_type": "stream",
          "text": [
            "[ 0  0  0  0  0  0  0  0  0  0  0  0  0 -1  1  1  1  1  1  1  1  1  1  1\n",
            "  1  1  1  1  1  1  1  1  1  1  1  1  1  1  1  1  1  1  1  1  1  1  1  1\n",
            "  1  1  1  1  1  1  1  1  1  1  1  1  1  1  1  1  1  1  1  1  1  1  1  1\n",
            "  1  1  1  1  1  1  1  1  1  1  1  1  1  1  1  1  1  1  1  1  1 -1  1  1\n",
            "  1  1  1  1  1  1  1  1  1  1  1  1  1  1  1  1  1  1  1  1]\n"
          ],
          "name": "stdout"
        },
        {
          "output_type": "display_data",
          "data": {
            "image/png": "[encoded data removed]",
            "text/plain": [
              "<Figure size 432x288 with 1 Axes>"
            ]
          },
          "metadata": {
            "tags": []
          }
        }
      ]
    },
    {
      "cell_type": "markdown",
      "metadata": {
        "id": "0yXfWrIxfuRx",
        "colab_type": "text"
      },
      "source": [
        ""
      ]
    },
    {
      "cell_type": "code",
      "metadata": {
        "id": "lBoFD4DqOznd",
        "colab_type": "code",
        "colab": {}
      },
      "source": [
        "# import numpy\n",
        "\n",
        "# f = open(\"usable_grids_Kolkata_latest.txt\", \"r\")\n",
        "\n",
        "# # Bangalore\n",
        "# # lat1 = 12.6400\n",
        "# # lon1 = 77.3200\n",
        "# # lat2 = 13.2300\n",
        "# # lon2 = 77.8300\n",
        "\n",
        "# # Chandigarh\n",
        "# # lat1 = 30.6600\n",
        "# # lon1 = 76.6900\n",
        "# # lat2 = 30.8000\n",
        "# # lon2 = 76.8400\n",
        "\n",
        "# # Chennai\n",
        "# # lat1 = 12.9500\n",
        "# # lon1 = 80.1600\n",
        "# # lat2 = 13.1400\n",
        "# # lon2 = 80.3100\n",
        "\n",
        "# # Delhi\n",
        "# # lat1 = 28.4000\n",
        "# # lon1 = 76.8300\n",
        "# # lat2 = 28.8900\n",
        "# # lon2 = 77.3400\n",
        "\n",
        "# # Gurgaon\n",
        "# # lat1 = 28.2000\n",
        "# # lon1 = 76.6300\n",
        "# # lat2 = 28.5500\n",
        "# # lon2 = 77.2400\n",
        "\n",
        "# # Hyderabad\n",
        "# # lat1 = 17.2900\n",
        "# # lon1 = 78.3800\n",
        "# # lat2 = 17.4800\n",
        "# # lon2 = 78.5400\n",
        "\n",
        "# # Kolkata\n",
        "# # lat1 = 22.4900\n",
        "# # lon1 = 88.2700\n",
        "# # lat2 = 22.6300\n",
        "# # lon2 = 88.4100\n",
        "\n",
        "# # Mumbai\n",
        "# # lat1 = 18.8900\n",
        "# # lon1 = 72.7700\n",
        "# # lat2 = 19.2700\n",
        "# # lon2 = 72.9900\n",
        "\n",
        "# height = round((lat2-lat1)*100.0)\n",
        "# width = round((lon2-lon1)*100.0)\n",
        "\n",
        "# print(height)\n",
        "# print(width)\n",
        "\n",
        "# grids = int(f.readline())\n",
        "\n",
        "# print(grids)\n",
        "\n",
        "# for x in range (0, grids):\n",
        "#   value = int(f.readline())\n",
        "\n",
        "# grids = int(f.readline())\n",
        "\n",
        "# print(grids)\n",
        "\n",
        "# X = []\n",
        "# sparse_matrix = numpy.zeros((height, width))\n",
        "\n",
        "# for x in range (0, grids):\n",
        "\n",
        "#   value = int(f.readline())\n",
        "\n",
        "#   x_coordinate = value // height\n",
        "#   y_coordinate = value % height\n",
        "\n",
        "#   X.append([x_coordinate, y_coordinate])\n",
        "#   sparse_matrix[y_coordinate][x_coordinate] = 1\n",
        "\n",
        "# X = numpy.array(X)\n",
        "\n",
        "# print(X)"
      ],
      "execution_count": 0,
      "outputs": []
    },
    {
      "cell_type": "code",
      "metadata": {
        "id": "bX01XcAuPFKg",
        "colab_type": "code",
        "colab": {}
      },
      "source": [
        "# import matplotlib.pyplot as plt\n",
        "\n",
        "# plt.scatter(X[:, 0], X[:, 1], marker=\"s\", c = 'g')\n",
        "# plt.gca().set_aspect('equal', adjustable='box')\n",
        "# plt.xlim(0, width-1)\n",
        "# plt.ylim(0, height-1)\n",
        "# plt.xlabel(\"Number of grids\")\n",
        "# plt.ylabel(\"Number of grids\")\n",
        "# plt.title(\"Kolkata - urban grids\")\n",
        "# plt.draw()"
      ],
      "execution_count": 0,
      "outputs": []
    },
    {
      "cell_type": "code",
      "metadata": {
        "colab_type": "code",
        "id": "b2zr7TMZcB-X",
        "colab": {}
      },
      "source": [
        "# from sklearn.cluster import OPTICS\n",
        "\n",
        "# op = OPTICS(min_samples=6)\n",
        "\n",
        "# y_op = op.fit_predict(X)\n",
        "\n",
        "# y_op"
      ],
      "execution_count": 0,
      "outputs": []
    },
    {
      "cell_type": "code",
      "metadata": {
        "colab_type": "code",
        "id": "oflvgtXbcAhu",
        "colab": {}
      },
      "source": [
        "# plt.scatter(\n",
        "#     X[y_op == -1, 0], X[y_op == -1, 1],\n",
        "#     s=50, c='black',\n",
        "#     marker='s', edgecolor='black',\n",
        "#     label='cluster 0'\n",
        "# )\n",
        "# plt.scatter(\n",
        "#     X[y_op == 0, 0], X[y_op == 0, 1],\n",
        "#     s=50, c='lightgreen',\n",
        "#     marker='o', edgecolor='black',\n",
        "#     label='cluster 1'\n",
        "# )\n",
        "\n",
        "# plt.scatter(\n",
        "#     X[y_op == 1, 0], X[y_op == 1, 1],\n",
        "#     s=50, c='orange',\n",
        "#     marker='v', edgecolor='black',\n",
        "#     label='cluster 2'\n",
        "# )\n",
        "\n",
        "# plt.scatter(\n",
        "#     X[y_op == 2, 0], X[y_op == 2, 1],\n",
        "#     s=50, c='lightblue',\n",
        "#     marker='s', edgecolor='black',\n",
        "#     label='cluster 3'\n",
        "# )\n",
        "\n",
        "# plt.scatter(\n",
        "#     X[y_op == 3, 0], X[y_op == 3, 1],\n",
        "#     s=50, c='pink',\n",
        "#     marker='o', edgecolor='black',\n",
        "#     label='cluster 4'\n",
        "# )\n",
        "\n",
        "# plt.scatter(\n",
        "#     X[y_op == 4, 0], X[y_op == 4, 1],\n",
        "#     s=50, c='red',\n",
        "#     marker='v', edgecolor='black',\n",
        "#     label='cluster 5'\n",
        "# )\n",
        "\n",
        "\n",
        "# plt.scatter(\n",
        "#     X[y_op == 5, 0], X[y_op == 5, 1],\n",
        "#     s=50, c='blue',\n",
        "#     marker='s', edgecolor='black',\n",
        "#     label='cluster 6'\n",
        "# )\n",
        "\n",
        "\n",
        "# plt.scatter(\n",
        "#     X[y_op == 6, 0], X[y_op == 6, 1],\n",
        "#     s=50, c='green',\n",
        "#     marker='o', edgecolor='black',\n",
        "#     label='cluster 7'\n",
        "# )\n",
        "\n",
        "# plt.scatter(\n",
        "#     X[y_op == 7, 0], X[y_op == 7, 1],\n",
        "#     s=50, c='purple',\n",
        "#     marker='v', edgecolor='black',\n",
        "#     label='cluster 8'\n",
        "# )\n",
        "\n",
        "# plt.scatter(\n",
        "#     X[y_op == 8, 0], X[y_op == 8, 1],\n",
        "#     s=50, c='cyan',\n",
        "#     marker='s', edgecolor='black',\n",
        "#     label='cluster 9'\n",
        "# )\n",
        "\n",
        "# # plt.legend()\n",
        "# plt.xlim(0, width-1)\n",
        "# plt.ylim(0, height-1)\n",
        "# plt.gca().set_aspect('equal', adjustable='box')\n",
        "# plt.show()"
      ],
      "execution_count": 0,
      "outputs": []
    }
  ]
}