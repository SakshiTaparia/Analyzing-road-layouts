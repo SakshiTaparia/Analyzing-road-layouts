{
  "nbformat": 4,
  "nbformat_minor": 0,
  "metadata": {
    "colab": {
      "name": "Vector_Clustering.ipynb",
      "provenance": [],
      "collapsed_sections": []
    },
    "kernelspec": {
      "name": "python3",
      "display_name": "Python 3"
    }
  },
  "cells": [
    {
      "cell_type": "code",
      "metadata": {
        "id": "-86PmOKUX_nS",
        "colab_type": "code",
        "outputId": "0c27207d-9803-4bbf-e34e-e074f8934509",
        "colab": {
          "base_uri": "https://localhost:8080/",
          "height": 34
        }
      },
      "source": [
        "%reset"
      ],
      "execution_count": 0,
      "outputs": [
        {
          "output_type": "stream",
          "text": [
            "Once deleted, variables cannot be recovered. Proceed (y/[n])? y\n"
          ],
          "name": "stdout"
        }
      ]
    },
    {
      "cell_type": "code",
      "metadata": {
        "id": "WPL7uvDfMwvV",
        "colab_type": "code",
        "outputId": "646e15e3-d50c-4517-a695-5f4bda4aa0e0",
        "colab": {
          "base_uri": "https://localhost:8080/",
          "height": 124
        }
      },
      "source": [
        "from google.colab import drive\n",
        "drive.mount('/content/drive/')"
      ],
      "execution_count": 0,
      "outputs": [
        {
          "output_type": "stream",
          "text": [
            "Go to this URL in a browser: https://accounts.google.com/o/oauth2/auth?client_id=947318989803-6bn6qk8qdgf4n4g3pfee6491hc0brc4i.apps.googleusercontent.com&redirect_uri=urn%3aietf%3awg%3aoauth%3a2.0%3aoob&response_type=code&scope=email%20https%3a%2f%2fwww.googleapis.com%2fauth%2fdocs.test%20https%3a%2f%2fwww.googleapis.com%2fauth%2fdrive%20https%3a%2f%2fwww.googleapis.com%2fauth%2fdrive.photos.readonly%20https%3a%2f%2fwww.googleapis.com%2fauth%2fpeopleapi.readonly\n",
            "\n",
            "Enter your authorization code:\n",
            "··········\n",
            "Mounted at /content/drive/\n"
          ],
          "name": "stdout"
        }
      ]
    },
    {
      "cell_type": "code",
      "metadata": {
        "id": "V4Uv8tXzOmEu",
        "colab_type": "code",
        "outputId": "81e054d2-56cb-4bdf-85cf-5a6fc5a3f268",
        "colab": {
          "base_uri": "https://localhost:8080/",
          "height": 34
        }
      },
      "source": [
        "cd 'drive/My Drive/Data'"
      ],
      "execution_count": 0,
      "outputs": [
        {
          "output_type": "stream",
          "text": [
            "/content/drive/My Drive/Data\n"
          ],
          "name": "stdout"
        }
      ]
    },
    {
      "cell_type": "code",
      "metadata": {
        "id": "4MrHKzjPWB-k",
        "colab_type": "code",
        "outputId": "bfc3cd9a-a8a4-4581-96a6-ae1b19851ecc",
        "colab": {
          "base_uri": "https://localhost:8080/",
          "height": 424
        }
      },
      "source": [
        "import numpy as np\n",
        "import numpy\n",
        "import pandas\n",
        "\n",
        "# Threeway, FourWay, >4Way, RoadLength, WR, urb_per, sub_per, district, s/r\n",
        "\n",
        "# Bangalore\n",
        "# lat1 = 12.6400\n",
        "# lon1 = 77.3200\n",
        "# lat2 = 13.2300\n",
        "# lon2 = 77.8300\n",
        "\n",
        "# Chandigarh\n",
        "# lat1 = 30.6600\n",
        "# lon1 = 76.6900\n",
        "# lat2 = 30.8000\n",
        "# lon2 = 76.8400\n",
        "\n",
        "# Chennai\n",
        "# lat1 = 12.9500\n",
        "# lon1 = 80.1600\n",
        "# lat2 = 13.1400\n",
        "# lon2 = 80.3100\n",
        "\n",
        "# Delhi\n",
        "# lat1 = 28.4000\n",
        "# lon1 = 76.8300\n",
        "# lat2 = 28.8900\n",
        "# lon2 = 77.3400\n",
        "\n",
        "# Gurgaon\n",
        "# lat1 = 28.2000\n",
        "# lon1 = 76.6300\n",
        "# lat2 = 28.5500\n",
        "# lon2 = 77.2400\n",
        "\n",
        "# Hyderabad\n",
        "# lat1 = 17.2900\n",
        "# lon1 = 78.3800\n",
        "# lat2 = 17.4800\n",
        "# lon2 = 78.5400\n",
        "\n",
        "# Kolkata\n",
        "# lat1 = 22.4900\n",
        "# lon1 = 88.2700\n",
        "# lat2 = 22.6300\n",
        "# lon2 = 88.4100\n",
        "\n",
        "# Mumbai\n",
        "# lat1 = 18.8900\n",
        "# lon1 = 72.7700\n",
        "# lat2 = 19.2700\n",
        "# lon2 = 72.9900\n",
        "\n",
        "data1 = pandas.read_csv(\"results_bangalore.csv\")\n",
        "data2 = pandas.read_csv(\"urb_sub_perc_Bangalore_latest.csv\")\n",
        "data1"
      ],
      "execution_count": 0,
      "outputs": [
        {
          "output_type": "execute_result",
          "data": {
            "text/html": [
              "<div>\n",
              "<style scoped>\n",
              "    .dataframe tbody tr th:only-of-type {\n",
              "        vertical-align: middle;\n",
              "    }\n",
              "\n",
              "    .dataframe tbody tr th {\n",
              "        vertical-align: top;\n",
              "    }\n",
              "\n",
              "    .dataframe thead th {\n",
              "        text-align: right;\n",
              "    }\n",
              "</style>\n",
              "<table border=\"1\" class=\"dataframe\">\n",
              "  <thead>\n",
              "    <tr style=\"text-align: right;\">\n",
              "      <th></th>\n",
              "      <th>S.No</th>\n",
              "      <th>ThreeWay</th>\n",
              "      <th>FourWay</th>\n",
              "      <th>MoreThanFourWay</th>\n",
              "      <th>RoadLength</th>\n",
              "      <th>WalkabilityRatio</th>\n",
              "    </tr>\n",
              "  </thead>\n",
              "  <tbody>\n",
              "    <tr>\n",
              "      <th>0</th>\n",
              "      <td>0</td>\n",
              "      <td>2</td>\n",
              "      <td>0</td>\n",
              "      <td>0</td>\n",
              "      <td>2091.2253</td>\n",
              "      <td>0.3468</td>\n",
              "    </tr>\n",
              "    <tr>\n",
              "      <th>1</th>\n",
              "      <td>1</td>\n",
              "      <td>1</td>\n",
              "      <td>0</td>\n",
              "      <td>0</td>\n",
              "      <td>738.8618</td>\n",
              "      <td>0.5522</td>\n",
              "    </tr>\n",
              "    <tr>\n",
              "      <th>2</th>\n",
              "      <td>2</td>\n",
              "      <td>16</td>\n",
              "      <td>1</td>\n",
              "      <td>0</td>\n",
              "      <td>6015.7038</td>\n",
              "      <td>0.6028</td>\n",
              "    </tr>\n",
              "    <tr>\n",
              "      <th>3</th>\n",
              "      <td>3</td>\n",
              "      <td>7</td>\n",
              "      <td>3</td>\n",
              "      <td>0</td>\n",
              "      <td>4405.6488</td>\n",
              "      <td>0.2901</td>\n",
              "    </tr>\n",
              "    <tr>\n",
              "      <th>4</th>\n",
              "      <td>4</td>\n",
              "      <td>6</td>\n",
              "      <td>1</td>\n",
              "      <td>0</td>\n",
              "      <td>3407.4783</td>\n",
              "      <td>0.5840</td>\n",
              "    </tr>\n",
              "    <tr>\n",
              "      <th>...</th>\n",
              "      <td>...</td>\n",
              "      <td>...</td>\n",
              "      <td>...</td>\n",
              "      <td>...</td>\n",
              "      <td>...</td>\n",
              "      <td>...</td>\n",
              "    </tr>\n",
              "    <tr>\n",
              "      <th>3004</th>\n",
              "      <td>3004</td>\n",
              "      <td>1</td>\n",
              "      <td>0</td>\n",
              "      <td>0</td>\n",
              "      <td>2660.1824</td>\n",
              "      <td>0.1969</td>\n",
              "    </tr>\n",
              "    <tr>\n",
              "      <th>3005</th>\n",
              "      <td>3005</td>\n",
              "      <td>2</td>\n",
              "      <td>0</td>\n",
              "      <td>0</td>\n",
              "      <td>2362.6680</td>\n",
              "      <td>0.2918</td>\n",
              "    </tr>\n",
              "    <tr>\n",
              "      <th>3006</th>\n",
              "      <td>3006</td>\n",
              "      <td>5</td>\n",
              "      <td>1</td>\n",
              "      <td>0</td>\n",
              "      <td>3260.8797</td>\n",
              "      <td>0.1722</td>\n",
              "    </tr>\n",
              "    <tr>\n",
              "      <th>3007</th>\n",
              "      <td>3007</td>\n",
              "      <td>1</td>\n",
              "      <td>0</td>\n",
              "      <td>0</td>\n",
              "      <td>2070.6069</td>\n",
              "      <td>0.2881</td>\n",
              "    </tr>\n",
              "    <tr>\n",
              "      <th>3008</th>\n",
              "      <td>3008</td>\n",
              "      <td>0</td>\n",
              "      <td>0</td>\n",
              "      <td>0</td>\n",
              "      <td>1599.4150</td>\n",
              "      <td>0.2192</td>\n",
              "    </tr>\n",
              "  </tbody>\n",
              "</table>\n",
              "<p>3009 rows × 6 columns</p>\n",
              "</div>"
            ],
            "text/plain": [
              "      S.No  ThreeWay  FourWay  MoreThanFourWay  RoadLength  WalkabilityRatio\n",
              "0        0         2        0                0   2091.2253            0.3468\n",
              "1        1         1        0                0    738.8618            0.5522\n",
              "2        2        16        1                0   6015.7038            0.6028\n",
              "3        3         7        3                0   4405.6488            0.2901\n",
              "4        4         6        1                0   3407.4783            0.5840\n",
              "...    ...       ...      ...              ...         ...               ...\n",
              "3004  3004         1        0                0   2660.1824            0.1969\n",
              "3005  3005         2        0                0   2362.6680            0.2918\n",
              "3006  3006         5        1                0   3260.8797            0.1722\n",
              "3007  3007         1        0                0   2070.6069            0.2881\n",
              "3008  3008         0        0                0   1599.4150            0.2192\n",
              "\n",
              "[3009 rows x 6 columns]"
            ]
          },
          "metadata": {
            "tags": []
          },
          "execution_count": 5
        }
      ]
    },
    {
      "cell_type": "code",
      "metadata": {
        "id": "ZlnO-YewWKuI",
        "colab_type": "code",
        "outputId": "1e1ada37-3a0d-433c-9762-a88e9feff966",
        "colab": {
          "base_uri": "https://localhost:8080/",
          "height": 424
        }
      },
      "source": [
        "data2"
      ],
      "execution_count": 0,
      "outputs": [
        {
          "output_type": "execute_result",
          "data": {
            "text/html": [
              "<div>\n",
              "<style scoped>\n",
              "    .dataframe tbody tr th:only-of-type {\n",
              "        vertical-align: middle;\n",
              "    }\n",
              "\n",
              "    .dataframe tbody tr th {\n",
              "        vertical-align: top;\n",
              "    }\n",
              "\n",
              "    .dataframe thead th {\n",
              "        text-align: right;\n",
              "    }\n",
              "</style>\n",
              "<table border=\"1\" class=\"dataframe\">\n",
              "  <thead>\n",
              "    <tr style=\"text-align: right;\">\n",
              "      <th></th>\n",
              "      <th>grid_no</th>\n",
              "      <th>urb_perc</th>\n",
              "      <th>sub_perc</th>\n",
              "      <th>district</th>\n",
              "      <th>s/r</th>\n",
              "    </tr>\n",
              "  </thead>\n",
              "  <tbody>\n",
              "    <tr>\n",
              "      <th>0</th>\n",
              "      <td>0</td>\n",
              "      <td>NaN</td>\n",
              "      <td>NaN</td>\n",
              "      <td>Bangalore_latest</td>\n",
              "      <td>Rejected</td>\n",
              "    </tr>\n",
              "    <tr>\n",
              "      <th>1</th>\n",
              "      <td>1</td>\n",
              "      <td>NaN</td>\n",
              "      <td>NaN</td>\n",
              "      <td>Bangalore_latest</td>\n",
              "      <td>Rejected</td>\n",
              "    </tr>\n",
              "    <tr>\n",
              "      <th>2</th>\n",
              "      <td>2</td>\n",
              "      <td>NaN</td>\n",
              "      <td>NaN</td>\n",
              "      <td>Bangalore_latest</td>\n",
              "      <td>Rejected</td>\n",
              "    </tr>\n",
              "    <tr>\n",
              "      <th>3</th>\n",
              "      <td>3</td>\n",
              "      <td>NaN</td>\n",
              "      <td>NaN</td>\n",
              "      <td>Bangalore_latest</td>\n",
              "      <td>Rejected</td>\n",
              "    </tr>\n",
              "    <tr>\n",
              "      <th>4</th>\n",
              "      <td>4</td>\n",
              "      <td>NaN</td>\n",
              "      <td>NaN</td>\n",
              "      <td>Bangalore_latest</td>\n",
              "      <td>Rejected</td>\n",
              "    </tr>\n",
              "    <tr>\n",
              "      <th>...</th>\n",
              "      <td>...</td>\n",
              "      <td>...</td>\n",
              "      <td>...</td>\n",
              "      <td>...</td>\n",
              "      <td>...</td>\n",
              "    </tr>\n",
              "    <tr>\n",
              "      <th>3004</th>\n",
              "      <td>3004</td>\n",
              "      <td>NaN</td>\n",
              "      <td>NaN</td>\n",
              "      <td>Bangalore_latest</td>\n",
              "      <td>Rejected</td>\n",
              "    </tr>\n",
              "    <tr>\n",
              "      <th>3005</th>\n",
              "      <td>3005</td>\n",
              "      <td>NaN</td>\n",
              "      <td>NaN</td>\n",
              "      <td>Bangalore_latest</td>\n",
              "      <td>Rejected</td>\n",
              "    </tr>\n",
              "    <tr>\n",
              "      <th>3006</th>\n",
              "      <td>3006</td>\n",
              "      <td>NaN</td>\n",
              "      <td>NaN</td>\n",
              "      <td>Bangalore_latest</td>\n",
              "      <td>Rejected</td>\n",
              "    </tr>\n",
              "    <tr>\n",
              "      <th>3007</th>\n",
              "      <td>3007</td>\n",
              "      <td>NaN</td>\n",
              "      <td>NaN</td>\n",
              "      <td>Bangalore_latest</td>\n",
              "      <td>Rejected</td>\n",
              "    </tr>\n",
              "    <tr>\n",
              "      <th>3008</th>\n",
              "      <td>3008</td>\n",
              "      <td>NaN</td>\n",
              "      <td>NaN</td>\n",
              "      <td>Bangalore_latest</td>\n",
              "      <td>Rejected</td>\n",
              "    </tr>\n",
              "  </tbody>\n",
              "</table>\n",
              "<p>3009 rows × 5 columns</p>\n",
              "</div>"
            ],
            "text/plain": [
              "      grid_no  urb_perc  sub_perc          district       s/r\n",
              "0           0       NaN       NaN  Bangalore_latest  Rejected\n",
              "1           1       NaN       NaN  Bangalore_latest  Rejected\n",
              "2           2       NaN       NaN  Bangalore_latest  Rejected\n",
              "3           3       NaN       NaN  Bangalore_latest  Rejected\n",
              "4           4       NaN       NaN  Bangalore_latest  Rejected\n",
              "...       ...       ...       ...               ...       ...\n",
              "3004     3004       NaN       NaN  Bangalore_latest  Rejected\n",
              "3005     3005       NaN       NaN  Bangalore_latest  Rejected\n",
              "3006     3006       NaN       NaN  Bangalore_latest  Rejected\n",
              "3007     3007       NaN       NaN  Bangalore_latest  Rejected\n",
              "3008     3008       NaN       NaN  Bangalore_latest  Rejected\n",
              "\n",
              "[3009 rows x 5 columns]"
            ]
          },
          "metadata": {
            "tags": []
          },
          "execution_count": 6
        }
      ]
    },
    {
      "cell_type": "code",
      "metadata": {
        "id": "nxxkvWQvS46I",
        "colab_type": "code",
        "outputId": "63f22917-1820-4afb-af13-a013eeda7e23",
        "colab": {
          "base_uri": "https://localhost:8080/",
          "height": 347
        }
      },
      "source": [
        "data1 = numpy.array(data1)\n",
        "# data1 = data1[:, 1:]\n",
        "\n",
        "data2 = numpy.array(data2)\n",
        "data2 = data2[:, 1:]\n",
        "\n",
        "data3 = []\n",
        "for i in range(77325 , 77830 , 10):\n",
        "  for j in range(12645 , 13230 , 10):\n",
        "    data3.append([i/1000,j/1000])\n",
        "\n",
        "final_data_bangalore = numpy.hstack((data1, data2, data3))\n",
        "print(final_data_bangalore.shape)\n",
        "\n",
        "final_data = numpy.copy(final_data_bangalore)\n",
        "# print(final_data.shape)\n",
        "\n",
        "data1 = pandas.read_csv(\"results_chennai.csv\")\n",
        "data2 = pandas.read_csv(\"urb_sub_perc_Chennai_latest.csv\")\n",
        "\n",
        "data1 = numpy.array(data1)\n",
        "# data1 = data1[:, 1:]\n",
        "\n",
        "data2 = numpy.array(data2)\n",
        "data2 = data2[:, 1:]\n",
        "\n",
        "data3 = []\n",
        "for i in range(80165 , 80310 , 10):\n",
        "  for j in range(12955 , 13140 , 10):\n",
        "    data3.append([i/1000,j/1000])\n",
        "\n",
        "final_data_chennai = numpy.hstack((data1, data2, data3))\n",
        "print(final_data_chennai.shape)\n",
        "\n",
        "final_data = numpy.vstack((final_data, final_data_chennai))\n",
        "print(final_data.shape)\n",
        "\n",
        "data1 = pandas.read_csv(\"results_delhi.csv\")\n",
        "data2 = pandas.read_csv(\"urb_sub_perc_Delhi_latest.csv\")\n",
        "\n",
        "data1 = numpy.array(data1)\n",
        "# data1 = data1[:, 1:]\n",
        "\n",
        "data2 = numpy.array(data2)\n",
        "data2 = data2[:, 1:]\n",
        "\n",
        "data3 = []\n",
        "for i in range(76835 , 77340 , 10):\n",
        "  for j in range(28405 , 28890 , 10):\n",
        "    data3.append([i/1000,j/1000])\n",
        "\n",
        "final_data_delhi = numpy.hstack((data1, data2, data3))\n",
        "print(final_data_delhi.shape)\n",
        "\n",
        "final_data = numpy.vstack((final_data, final_data_delhi))\n",
        "print(final_data.shape)\n",
        "\n",
        "data1 = pandas.read_csv(\"results_gurgaon.csv\")\n",
        "data2 = pandas.read_csv(\"urb_sub_perc_Gurgaon_latest.csv\")\n",
        "\n",
        "data1 = numpy.array(data1)\n",
        "# data1 = data1[:, 1:]\n",
        "\n",
        "data2 = numpy.array(data2)\n",
        "data2 = data2[:, 1:]\n",
        "\n",
        "data3 = []\n",
        "for i in range(76635 , 77240 , 10):\n",
        "  for j in range(28205 , 28550 , 10):\n",
        "    data3.append([i/1000,j/1000])\n",
        "\n",
        "final_data_gurgaon = numpy.hstack((data1, data2, data3))\n",
        "print(final_data_gurgaon.shape)\n",
        "\n",
        "final_data = numpy.vstack((final_data, final_data_gurgaon))\n",
        "print(final_data.shape)\n",
        "\n",
        "data1 = pandas.read_csv(\"results_hyderabad.csv\")\n",
        "data2 = pandas.read_csv(\"urb_sub_perc_Hyderabad_latest.csv\")\n",
        "\n",
        "data1 = numpy.array(data1)\n",
        "# data1 = data1[:, 1:]\n",
        "\n",
        "data2 = numpy.array(data2)\n",
        "data2 = data2[:, 1:]\n",
        "\n",
        "data3 = []\n",
        "for i in range(78385 , 78540 , 10):\n",
        "  for j in range(17295 , 17480 , 10):\n",
        "    data3.append([i/1000,j/1000])\n",
        "\n",
        "final_data_hyderabad = numpy.hstack((data1, data2, data3))\n",
        "print(final_data_hyderabad.shape)\n",
        "\n",
        "final_data = numpy.vstack((final_data, final_data_hyderabad))\n",
        "print(final_data.shape)\n",
        "\n",
        "data1 = pandas.read_csv(\"results_mumbai.csv\")\n",
        "data2 = pandas.read_csv(\"urb_sub_perc_Mumbai_latest.csv\")\n",
        "\n",
        "data1 = numpy.array(data1)\n",
        "# data1 = data1[:, 1:]\n",
        "\n",
        "data2 = numpy.array(data2)\n",
        "data2 = data2[:, 1:]\n",
        "\n",
        "data3 = []\n",
        "for i in range(72775 , 72990 , 10):\n",
        "  for j in range(18895 , 19270 , 10):\n",
        "    data3.append([i/1000,j/1000])\n",
        "\n",
        "data3 = numpy.array(data3)\n",
        "final_data_mumbai = numpy.hstack((data1, data2, data3))\n",
        "print(final_data_mumbai.shape)\n",
        "\n",
        "final_data = numpy.vstack((final_data, final_data_mumbai))\n",
        "print(final_data.shape)\n",
        "\n",
        "data1 = pandas.read_csv(\"results_kolkata.csv\")\n",
        "data2 = pandas.read_csv(\"urb_sub_perc_Kolkata_latest.csv\")\n",
        "\n",
        "data1 = numpy.array(data1)\n",
        "# data1 = data1[:, 1:]\n",
        "\n",
        "data2 = numpy.array(data2)\n",
        "data2 = data2[:, 1:]\n",
        "\n",
        "data3 = []\n",
        "for i in range(88275 , 88410 , 10):\n",
        "  for j in range(22495 , 22630 , 10):\n",
        "    data3.append([i/1000,j/1000])\n",
        "\n",
        "final_data_kolkata = numpy.hstack((data1, data2, data3))\n",
        "print(final_data_kolkata.shape)\n",
        "\n",
        "final_data = numpy.vstack((final_data, final_data_kolkata))\n",
        "print(final_data)"
      ],
      "execution_count": 0,
      "outputs": [
        {
          "output_type": "stream",
          "text": [
            "(3009, 12)\n",
            "(285, 12)\n",
            "(3294, 12)\n",
            "(2499, 12)\n",
            "(5793, 12)\n",
            "(2135, 12)\n",
            "(7928, 12)\n",
            "(304, 12)\n",
            "(8232, 12)\n",
            "(836, 12)\n",
            "(9068, 12)\n",
            "(196, 12)\n",
            "[[0.0 2.0 0.0 ... 'Rejected' 77.325 12.645]\n",
            " [1.0 1.0 0.0 ... 'Rejected' 77.325 12.655]\n",
            " [2.0 16.0 1.0 ... 'Rejected' 77.325 12.665]\n",
            " ...\n",
            " [193.0 223.0 28.0 ... 'Rejected' 88.405 22.605]\n",
            " [194.0 207.0 16.0 ... 'Rejected' 88.405 22.615]\n",
            " [195.0 145.0 8.0 ... 'Rejected' 88.405 22.625]]\n"
          ],
          "name": "stdout"
        }
      ]
    },
    {
      "cell_type": "code",
      "metadata": {
        "id": "RIFsG0yrUHSQ",
        "colab_type": "code",
        "colab": {}
      },
      "source": [
        "import numpy \n",
        "\n",
        "preprocessed = numpy.copy(final_data)\n",
        "\n",
        "for i in range (0, preprocessed.shape[0]):\n",
        "\n",
        "  if(preprocessed[i][8] == 'Bangalore_latest'):\n",
        "    preprocessed[i][8] = 1\n",
        "\n",
        "  elif(preprocessed[i][8] == 'Chennai_latest'):\n",
        "    preprocessed[i][8] = 2\n",
        "\n",
        "  elif(preprocessed[i][8] == 'Delhi_latest'):\n",
        "    preprocessed[i][8] = 3\n",
        "\n",
        "  elif(preprocessed[i][8] == 'Gurgaon_latest'):\n",
        "    preprocessed[i][8] = 4\n",
        "\n",
        "  elif(preprocessed[i][8] == 'Hyderabad_latest'):\n",
        "    preprocessed[i][8] = 5\n",
        "\n",
        "  elif(preprocessed[i][8] == 'Kolkata_latest'):\n",
        "    preprocessed[i][8] = 6\n",
        "\n",
        "  else:\n",
        "    preprocessed[i][8] = 7\n",
        "\n",
        "\n",
        "for i in range (0, preprocessed.shape[0]):\n",
        "\n",
        "  if(preprocessed[i][9] == 'Selected'):\n",
        "    preprocessed[i][9] = 1\n",
        "\n",
        "  else:\n",
        "    preprocessed[i][9] = numpy.nan\n",
        "\n",
        "preprocessed = numpy.array(preprocessed, dtype = 'float')\n",
        "\n",
        "# nan = grid discarded for being outside district instead of being rural\n",
        "\n"
      ],
      "execution_count": 0,
      "outputs": []
    },
    {
      "cell_type": "code",
      "metadata": {
        "id": "uwIoYWNTINVV",
        "colab_type": "code",
        "colab": {}
      },
      "source": [
        "# HeatMappper Files...\n",
        "# import pandas as pd\n",
        "# df = pd.DataFrame(preprocessed)\n",
        "# df = df[df[8] == 7]\n",
        "# df = df[[10,11,4]]\n",
        "# df.columns = ['Longitude', 'Latitude', 'Value']\n",
        "# df.to_csv('Mumbai_RL.csv', index = False)\n",
        "# import pandas as pd\n",
        "# df = pd.DataFrame(preprocessed)\n",
        "# sum_column = df[1] + df[2]\n",
        "# df[\"Intersections\"] = sum_column\n",
        "# df = df[df[8] == 7]\n",
        "# df = df[[10,11,\"Intersections\"]]\n",
        "# df.columns = ['Longitude', 'Latitude', 'Value']\n",
        "# df.to_csv('Mumbai_Int.csv', index = False)"
      ],
      "execution_count": 0,
      "outputs": []
    },
    {
      "cell_type": "code",
      "metadata": {
        "id": "4sUG5ojCHw1r",
        "colab_type": "code",
        "outputId": "46871bfe-e4bf-412b-9f5d-1d9a6192dda2",
        "colab": {
          "base_uri": "https://localhost:8080/",
          "height": 34
        }
      },
      "source": [
        "preprocessed = preprocessed[~numpy.isnan(preprocessed).any(axis=1)]\n",
        "preprocessed.shape"
      ],
      "execution_count": 0,
      "outputs": [
        {
          "output_type": "execute_result",
          "data": {
            "text/plain": [
              "(1344, 12)"
            ]
          },
          "metadata": {
            "tags": []
          },
          "execution_count": 10
        }
      ]
    },
    {
      "cell_type": "code",
      "metadata": {
        "id": "9TDWXVlQCHju",
        "colab_type": "code",
        "outputId": "48fc4098-58a7-4745-eaf2-de9188d48b57",
        "colab": {
          "base_uri": "https://localhost:8080/",
          "height": 34
        }
      },
      "source": [
        "left = numpy.copy(preprocessed[:,1:3])\n",
        "left.shape"
      ],
      "execution_count": 0,
      "outputs": [
        {
          "output_type": "execute_result",
          "data": {
            "text/plain": [
              "(1344, 2)"
            ]
          },
          "metadata": {
            "tags": []
          },
          "execution_count": 11
        }
      ]
    },
    {
      "cell_type": "code",
      "metadata": {
        "id": "CB45odSiCH_c",
        "colab_type": "code",
        "outputId": "bdbe1724-53bf-4759-dbf0-93e80e2b2b38",
        "colab": {
          "base_uri": "https://localhost:8080/",
          "height": 34
        }
      },
      "source": [
        "right = numpy.copy(preprocessed[:,5:])\n",
        "right.shape"
      ],
      "execution_count": 0,
      "outputs": [
        {
          "output_type": "execute_result",
          "data": {
            "text/plain": [
              "(1344, 7)"
            ]
          },
          "metadata": {
            "tags": []
          },
          "execution_count": 12
        }
      ]
    },
    {
      "cell_type": "code",
      "metadata": {
        "id": "R69DRaRFCIXO",
        "colab_type": "code",
        "outputId": "36c45b16-85d2-4936-cf87-76d25ddc3521",
        "colab": {
          "base_uri": "https://localhost:8080/",
          "height": 34
        }
      },
      "source": [
        "input_data = numpy.hstack((left, right))\n",
        "input_data.shape"
      ],
      "execution_count": 0,
      "outputs": [
        {
          "output_type": "execute_result",
          "data": {
            "text/plain": [
              "(1344, 9)"
            ]
          },
          "metadata": {
            "tags": []
          },
          "execution_count": 13
        }
      ]
    },
    {
      "cell_type": "code",
      "metadata": {
        "id": "2qhQCw5JCIux",
        "colab_type": "code",
        "outputId": "9d05bd83-6124-47e3-8ab9-25b770a6c37a",
        "colab": {
          "base_uri": "https://localhost:8080/",
          "height": 34
        }
      },
      "source": [
        "input_data_final = input_data[:, :-5]\n",
        "input_data_final.shape\n"
      ],
      "execution_count": 0,
      "outputs": [
        {
          "output_type": "execute_result",
          "data": {
            "text/plain": [
              "(1344, 4)"
            ]
          },
          "metadata": {
            "tags": []
          },
          "execution_count": 14
        }
      ]
    },
    {
      "cell_type": "code",
      "metadata": {
        "id": "WrRtlPx8CJMD",
        "colab_type": "code",
        "outputId": "a4e0edb2-a5fa-4f72-ba74-7b12323a0490",
        "colab": {
          "base_uri": "https://localhost:8080/",
          "height": 139
        }
      },
      "source": [
        "from sklearn.preprocessing import minmax_scale\n",
        "\n",
        "norm_input_data = minmax_scale(input_data_final, feature_range=(0,1), axis=0)\n",
        "\n",
        "norm_input_data"
      ],
      "execution_count": 0,
      "outputs": [
        {
          "output_type": "execute_result",
          "data": {
            "text/plain": [
              "array([[0.22479186, 0.34482759, 0.86931281, 0.        ],\n",
              "       [0.19888992, 0.12807882, 0.83893614, 0.        ],\n",
              "       [0.05457909, 0.0591133 , 0.66612664, 0.        ],\n",
              "       ...,\n",
              "       [0.03515264, 0.01477833, 0.61023356, 0.        ],\n",
              "       [0.07585569, 0.01970443, 0.88308357, 0.        ],\n",
              "       [0.29417206, 0.12315271, 0.67733225, 0.        ]])"
            ]
          },
          "metadata": {
            "tags": []
          },
          "execution_count": 15
        }
      ]
    },
    {
      "cell_type": "code",
      "metadata": {
        "id": "0WeJZTNbZDzT",
        "colab_type": "code",
        "outputId": "2f705c6d-41e1-45ae-947b-70d456446d5d",
        "colab": {
          "base_uri": "https://localhost:8080/",
          "height": 34
        }
      },
      "source": [
        "from sklearn.preprocessing import minmax_scale\n",
        "\n",
        "norm_input_data = minmax_scale(norm_input_data, feature_range=(0,1), axis=0)\n",
        "\n",
        "norm_input_data[:, 0:2] = norm_input_data[:, 0:2] + 1\n",
        "norm_input_data[:, 0:2] = numpy.log2(norm_input_data[:, 0:2])\n",
        "\n",
        "norm_input_data.shape"
      ],
      "execution_count": 0,
      "outputs": [
        {
          "output_type": "execute_result",
          "data": {
            "text/plain": [
              "(1344, 4)"
            ]
          },
          "metadata": {
            "tags": []
          },
          "execution_count": 16
        }
      ]
    },
    {
      "cell_type": "code",
      "metadata": {
        "id": "7PkERJ2qdKi2",
        "colab_type": "code",
        "outputId": "a12bb5c1-cc15-44ad-8810-0d2a19aeb7f2",
        "colab": {
          "base_uri": "https://localhost:8080/",
          "height": 502
        }
      },
      "source": [
        "import matplotlib.pyplot as plt\n",
        "import scipy.cluster.hierarchy as shc\n",
        "\n",
        "plt.figure(figsize = (15,8))  \n",
        "plt.title(\"Dendrograms\")  \n",
        "dend = shc.dendrogram(shc.linkage(norm_input_data, method='ward'))"
      ],
      "execution_count": 0,
      "outputs": [
        {
          "output_type": "display_data",
          "data": {
            "image/png": "[encoded data removed]",
            "text/plain": [
              "<Figure size 1080x576 with 1 Axes>"
            ]
          },
          "metadata": {
            "tags": []
          }
        }
      ]
    },
    {
      "cell_type": "code",
      "metadata": {
        "id": "z-vpESYGmxjp",
        "colab_type": "code",
        "outputId": "bc57e8b7-766a-4fa8-b2ee-524508999e09",
        "colab": {
          "base_uri": "https://localhost:8080/",
          "height": 34
        }
      },
      "source": [
        "from sklearn.cluster import AgglomerativeClustering\n",
        "\n",
        "cluster = AgglomerativeClustering(n_clusters=2, affinity='euclidean', linkage='ward')  \n",
        "ac = cluster.fit_predict(norm_input_data)\n",
        "\n",
        "print(ac.shape)\n"
      ],
      "execution_count": 0,
      "outputs": [
        {
          "output_type": "stream",
          "text": [
            "(1344,)\n"
          ],
          "name": "stdout"
        }
      ]
    },
    {
      "cell_type": "code",
      "metadata": {
        "id": "1UCS5qQRKKuE",
        "colab_type": "code",
        "outputId": "93bc3704-eeed-48b9-aea9-0d9a32892831",
        "colab": {
          "base_uri": "https://localhost:8080/",
          "height": 208
        }
      },
      "source": [
        "list1 = []\n",
        "list2 = []\n",
        "preprocessed_1 = []\n",
        "preprocessed_2 = []\n",
        "\n",
        "for i in range (0, ac.shape[0]):\n",
        "\n",
        "  if (ac[i] == 0):\n",
        "    list1.append(norm_input_data[i, :])\n",
        "    preprocessed_1.append(preprocessed[i, :])\n",
        "\n",
        "  else:\n",
        "    list2.append(norm_input_data[i, :])\n",
        "    preprocessed_2.append(preprocessed[i, :])\n",
        "\n",
        "\n",
        "list1 = numpy.array(list1)\n",
        "list2 = numpy.array(list2)\n",
        "preprocessed_1 = numpy.array(preprocessed_1)\n",
        "preprocessed_2 = numpy.array(preprocessed_2)\n",
        "\n",
        "print(list1.shape)\n",
        "print(list2.shape)\n",
        "print(preprocessed_1.shape)\n",
        "print(preprocessed_2.shape)\n",
        "print(list2)\n",
        "\n"
      ],
      "execution_count": 0,
      "outputs": [
        {
          "output_type": "stream",
          "text": [
            "(532, 4)\n",
            "(812, 4)\n",
            "(532, 12)\n",
            "(812, 12)\n",
            "[[0.2925366  0.42742122 0.86931281 0.        ]\n",
            " [0.2616992  0.17386787 0.83893614 0.        ]\n",
            " [0.0766673  0.08285693 0.66612664 0.        ]\n",
            " ...\n",
            " [0.04984351 0.02116461 0.61023356 0.        ]\n",
            " [0.10548457 0.02815104 0.88308357 0.        ]\n",
            " [0.37202944 0.1675541  0.67733225 0.        ]]\n"
          ],
          "name": "stdout"
        }
      ]
    },
    {
      "cell_type": "code",
      "metadata": {
        "id": "dfiXZgvDMC7Z",
        "colab_type": "code",
        "outputId": "9765b751-e4c0-4d6a-b5bf-83a50176b1d0",
        "colab": {
          "base_uri": "https://localhost:8080/",
          "height": 282
        }
      },
      "source": [
        "fig7, ax7 = plt.subplots()\n",
        "\n",
        "ax7.set_title(list1.shape[0])\n",
        "ax7.set_ylim(-0.1,1.1)\n",
        "\n",
        "ax7.boxplot(list1, labels = ['3 way', '4 way', 'WR', 'urb_per'])\n",
        "\n",
        "plt.show()"
      ],
      "execution_count": 0,
      "outputs": [
        {
          "output_type": "display_data",
          "data": {
            "image/png": "[encoded data removed]",
            "text/plain": [
              "<Figure size 432x288 with 1 Axes>"
            ]
          },
          "metadata": {
            "tags": []
          }
        }
      ]
    },
    {
      "cell_type": "code",
      "metadata": {
        "id": "AVIAwwBQMQmM",
        "colab_type": "code",
        "outputId": "18cdb2b9-cb0a-4aaf-a7b4-f700b7665ea4",
        "colab": {
          "base_uri": "https://localhost:8080/",
          "height": 282
        }
      },
      "source": [
        "fig7, ax7 = plt.subplots()\n",
        "\n",
        "ax7.set_title(list2.shape[0])\n",
        "ax7.set_ylim(-0.1,1.1)\n",
        "\n",
        "ax7.boxplot(list2, labels = ['3 way', '4 way', 'WR', 'urb_per'])\n",
        "\n",
        "plt.show()"
      ],
      "execution_count": 0,
      "outputs": [
        {
          "output_type": "display_data",
          "data": {
            "image/png": "[encoded data removed]",
            "text/plain": [
              "<Figure size 432x288 with 1 Axes>"
            ]
          },
          "metadata": {
            "tags": []
          }
        }
      ]
    },
    {
      "cell_type": "code",
      "metadata": {
        "id": "plJYMyVFMTav",
        "colab_type": "code",
        "outputId": "a06cb6a2-27a9-4797-babd-185cfd3d414b",
        "colab": {
          "base_uri": "https://localhost:8080/",
          "height": 498
        }
      },
      "source": [
        "import scipy.cluster.hierarchy as shc\n",
        "\n",
        "plt.figure(figsize = (15,8))  \n",
        "plt.title(\"Dendrograms\")  \n",
        "dend = shc.dendrogram(shc.linkage(list1, method='ward'))"
      ],
      "execution_count": 0,
      "outputs": [
        {
          "output_type": "display_data",
          "data": {
            "image/png": "[encoded data removed]",
            "text/plain": [
              "<Figure size 1080x576 with 1 Axes>"
            ]
          },
          "metadata": {
            "tags": []
          }
        }
      ]
    },
    {
      "cell_type": "code",
      "metadata": {
        "id": "L7Cw-X_LN66H",
        "colab_type": "code",
        "outputId": "8a50e748-f55c-46df-cb94-89189be40473",
        "colab": {
          "base_uri": "https://localhost:8080/",
          "height": 499
        }
      },
      "source": [
        "import scipy.cluster.hierarchy as shc\n",
        "\n",
        "plt.figure(figsize = (15,8))  \n",
        "plt.title(\"Dendrograms\")  \n",
        "dend = shc.dendrogram(shc.linkage(list2, method='ward'))"
      ],
      "execution_count": 0,
      "outputs": [
        {
          "output_type": "display_data",
          "data": {
            "image/png": "[encoded data removed]",
            "text/plain": [
              "<Figure size 1080x576 with 1 Axes>"
            ]
          },
          "metadata": {
            "tags": []
          }
        }
      ]
    },
    {
      "cell_type": "code",
      "metadata": {
        "id": "0WtyTndzPLSU",
        "colab_type": "code",
        "outputId": "dc8195b6-0e34-447b-91af-b51b9810c097",
        "colab": {
          "base_uri": "https://localhost:8080/",
          "height": 52
        }
      },
      "source": [
        "from sklearn.cluster import AgglomerativeClustering\n",
        "\n",
        "cluster = AgglomerativeClustering(n_clusters=3, affinity='euclidean', linkage='ward')  \n",
        "ac_1 = cluster.fit_predict(list1)\n",
        "\n",
        "# print(ac_1)\n",
        "print(ac_1.shape)\n",
        "\n",
        "cluster = AgglomerativeClustering(n_clusters=3, affinity='euclidean', linkage='ward')  \n",
        "ac_2 = cluster.fit_predict(list2)\n",
        "\n",
        "# print(ac_2)\n",
        "ac_2.shape"
      ],
      "execution_count": 0,
      "outputs": [
        {
          "output_type": "stream",
          "text": [
            "(532,)\n"
          ],
          "name": "stdout"
        },
        {
          "output_type": "execute_result",
          "data": {
            "text/plain": [
              "(812,)"
            ]
          },
          "metadata": {
            "tags": []
          },
          "execution_count": 24
        }
      ]
    },
    {
      "cell_type": "code",
      "metadata": {
        "id": "DApHxos4N9n8",
        "colab_type": "code",
        "outputId": "0fc904b5-b7d1-4a90-abba-8e14d786613b",
        "colab": {
          "base_uri": "https://localhost:8080/",
          "height": 121
        }
      },
      "source": [
        "list1_a = []\n",
        "list1_b = []\n",
        "list1_c = []\n",
        "preprocessed1_a = []\n",
        "preprocessed1_b = []\n",
        "preprocessed1_c = []\n",
        "\n",
        "for i in range (0, ac_1.shape[0]):\n",
        "\n",
        "  if (ac_1[i] == 0):\n",
        "    list1_a.append(list1[i, :])\n",
        "    preprocessed1_a.append(preprocessed_1[i, :])\n",
        "\n",
        "  elif (ac_1[i] == 1):\n",
        "    list1_b.append(list1[i, :])\n",
        "    preprocessed1_b.append(preprocessed_1[i, :])\n",
        "\n",
        "  else:\n",
        "    list1_c.append(list1[i, :])\n",
        "    preprocessed1_c.append(preprocessed_1[i, :])\n",
        "\n",
        "list1_a = numpy.array(list1_a)\n",
        "list1_b = numpy.array(list1_b)\n",
        "list1_c = numpy.array(list1_c)\n",
        "preprocessed1_a = numpy.array(preprocessed1_a)\n",
        "preprocessed1_b = numpy.array(preprocessed1_b)\n",
        "preprocessed1_c = numpy.array(preprocessed1_c)\n",
        "\n",
        "print(list1_a.shape)\n",
        "print(preprocessed1_a.shape)\n",
        "print(list1_b.shape)\n",
        "print(preprocessed1_b.shape)\n",
        "print(list1_c.shape)\n",
        "print(preprocessed1_c.shape)\n"
      ],
      "execution_count": 0,
      "outputs": [
        {
          "output_type": "stream",
          "text": [
            "(220, 4)\n",
            "(220, 12)\n",
            "(176, 4)\n",
            "(176, 12)\n",
            "(136, 4)\n",
            "(136, 12)\n"
          ],
          "name": "stdout"
        }
      ]
    },
    {
      "cell_type": "code",
      "metadata": {
        "id": "rn2GgBjxPviZ",
        "colab_type": "code",
        "outputId": "c710e3e5-23ed-4807-99b7-e86ca7a95fc3",
        "colab": {
          "base_uri": "https://localhost:8080/",
          "height": 282
        }
      },
      "source": [
        "fig7, ax7 = plt.subplots()\n",
        "\n",
        "ax7.set_title(list1_a.shape[0])\n",
        "ax7.set_ylim(-0.1,1.1)\n",
        "\n",
        "ax7.boxplot(list1_a, labels = ['3 way', '4 way', 'WR', 'urb_per'])\n",
        "\n",
        "plt.show()"
      ],
      "execution_count": 0,
      "outputs": [
        {
          "output_type": "display_data",
          "data": {
            "image/png": "[encoded data removed]",
            "text/plain": [
              "<Figure size 432x288 with 1 Axes>"
            ]
          },
          "metadata": {
            "tags": []
          }
        }
      ]
    },
    {
      "cell_type": "code",
      "metadata": {
        "id": "YOrJdkhVP3Kr",
        "colab_type": "code",
        "outputId": "0efaa692-5989-4b00-9a24-4f645b2daebe",
        "colab": {
          "base_uri": "https://localhost:8080/",
          "height": 282
        }
      },
      "source": [
        "fig7, ax7 = plt.subplots()\n",
        "\n",
        "ax7.set_title(list1_b.shape[0])\n",
        "ax7.set_ylim(-0.1,1.1)\n",
        "\n",
        "ax7.boxplot(list1_b, labels = ['3 way', '4 way', 'WR', 'urb_per'])\n",
        "\n",
        "plt.show()"
      ],
      "execution_count": 0,
      "outputs": [
        {
          "output_type": "display_data",
          "data": {
            "image/png": "[encoded data removed]",
            "text/plain": [
              "<Figure size 432x288 with 1 Axes>"
            ]
          },
          "metadata": {
            "tags": []
          }
        }
      ]
    },
    {
      "cell_type": "code",
      "metadata": {
        "id": "y9xd2jM1P7Vf",
        "colab_type": "code",
        "outputId": "e93a4b4f-b281-4395-93b9-696feb93c876",
        "colab": {
          "base_uri": "https://localhost:8080/",
          "height": 282
        }
      },
      "source": [
        "fig7, ax7 = plt.subplots()\n",
        "\n",
        "ax7.set_title(list1_c.shape[0])\n",
        "ax7.set_ylim(-0.1,1.1)\n",
        "\n",
        "ax7.boxplot(list1_c, labels = ['3 way', '4 way', 'WR', 'urb_per'])\n",
        "\n",
        "plt.show()"
      ],
      "execution_count": 0,
      "outputs": [
        {
          "output_type": "display_data",
          "data": {
            "image/png": "[encoded data removed]",
            "text/plain": [
              "<Figure size 432x288 with 1 Axes>"
            ]
          },
          "metadata": {
            "tags": []
          }
        }
      ]
    },
    {
      "cell_type": "code",
      "metadata": {
        "id": "K6VmZ2-VQGE0",
        "colab_type": "code",
        "outputId": "dffd0a20-25eb-4c1c-da3f-2d7030748748",
        "colab": {
          "base_uri": "https://localhost:8080/",
          "height": 121
        }
      },
      "source": [
        "list2_a = []\n",
        "list2_b = []\n",
        "list2_c = []\n",
        "preprocessed2_a = []\n",
        "preprocessed2_b = []\n",
        "preprocessed2_c = []\n",
        "\n",
        "for i in range (0, ac_2.shape[0]):\n",
        "\n",
        "  if (ac_2[i] == 0):\n",
        "    list2_a.append(list2[i, :])\n",
        "    preprocessed2_a.append(preprocessed_2[i, :])\n",
        "\n",
        "  elif (ac_2[i] == 1):\n",
        "    list2_b.append(list2[i, :])\n",
        "    preprocessed2_b.append(preprocessed_2[i, :])\n",
        "\n",
        "  else:\n",
        "    list2_c.append(list2[i, :])\n",
        "    preprocessed2_c.append(preprocessed_2[i, :])\n",
        "\n",
        "list2_a = numpy.array(list2_a)\n",
        "list2_b = numpy.array(list2_b)\n",
        "list2_c = numpy.array(list2_c)\n",
        "preprocessed2_a = numpy.array(preprocessed2_a)\n",
        "preprocessed2_b = numpy.array(preprocessed2_b)\n",
        "preprocessed2_c = numpy.array(preprocessed2_c)\n",
        "\n",
        "print(list2_a.shape)\n",
        "print(preprocessed2_a.shape)\n",
        "print(list2_b.shape)\n",
        "print(preprocessed2_b.shape)\n",
        "print(list2_c.shape)\n",
        "print(preprocessed2_c.shape)\n"
      ],
      "execution_count": 0,
      "outputs": [
        {
          "output_type": "stream",
          "text": [
            "(181, 4)\n",
            "(181, 12)\n",
            "(317, 4)\n",
            "(317, 12)\n",
            "(314, 4)\n",
            "(314, 12)\n"
          ],
          "name": "stdout"
        }
      ]
    },
    {
      "cell_type": "code",
      "metadata": {
        "id": "6yUEuNywQ7N4",
        "colab_type": "code",
        "outputId": "1d342cf5-47d4-4359-818f-3c0041a0e8ae",
        "colab": {
          "base_uri": "https://localhost:8080/",
          "height": 282
        }
      },
      "source": [
        "fig7, ax7 = plt.subplots()\n",
        "\n",
        "ax7.set_title(list2_a.shape[0])\n",
        "ax7.set_ylim(-0.1,1.1)\n",
        "\n",
        "ax7.boxplot(list2_a, labels = ['3 way', '4 way', 'WR', 'urb_per'])\n",
        "\n",
        "plt.show()"
      ],
      "execution_count": 0,
      "outputs": [
        {
          "output_type": "display_data",
          "data": {
            "image/png": "[encoded data removed]",
            "text/plain": [
              "<Figure size 432x288 with 1 Axes>"
            ]
          },
          "metadata": {
            "tags": []
          }
        }
      ]
    },
    {
      "cell_type": "code",
      "metadata": {
        "id": "Pm-HfVOtRE10",
        "colab_type": "code",
        "outputId": "04c221a7-6e36-47c5-9345-9c11ed34ab94",
        "colab": {
          "base_uri": "https://localhost:8080/",
          "height": 282
        }
      },
      "source": [
        "fig7, ax7 = plt.subplots()\n",
        "\n",
        "ax7.set_title(list2_b.shape[0])\n",
        "ax7.set_ylim(-0.1,1.1)\n",
        "\n",
        "ax7.boxplot(list2_b, labels = ['3 way', '4 way', 'WR', 'urb_per'])\n",
        "\n",
        "plt.show()"
      ],
      "execution_count": 0,
      "outputs": [
        {
          "output_type": "display_data",
          "data": {
            "image/png": "[encoded data removed]",
            "text/plain": [
              "<Figure size 432x288 with 1 Axes>"
            ]
          },
          "metadata": {
            "tags": []
          }
        }
      ]
    },
    {
      "cell_type": "code",
      "metadata": {
        "id": "ZGOSBCUERI8P",
        "colab_type": "code",
        "outputId": "ccb0d6a8-777f-4ae7-aa59-a886bca0c71a",
        "colab": {
          "base_uri": "https://localhost:8080/",
          "height": 282
        }
      },
      "source": [
        "fig7, ax7 = plt.subplots()\n",
        "\n",
        "ax7.set_title(list2_c.shape[0])\n",
        "ax7.set_ylim(-0.1,1.1)\n",
        "\n",
        "ax7.boxplot(list2_c, labels = ['3 way', '4 way', 'WR', 'urb_per'])\n",
        "\n",
        "plt.show()"
      ],
      "execution_count": 0,
      "outputs": [
        {
          "output_type": "display_data",
          "data": {
            "image/png": "[encoded data removed]",
            "text/plain": [
              "<Figure size 432x288 with 1 Axes>"
            ]
          },
          "metadata": {
            "tags": []
          }
        }
      ]
    },
    {
      "cell_type": "code",
      "metadata": {
        "id": "KQySbEGHEenB",
        "colab_type": "code",
        "outputId": "187fabfc-d797-4a6e-9279-ac81649cf316",
        "colab": {
          "base_uri": "https://localhost:8080/",
          "height": 1000
        }
      },
      "source": [
        "# sns.set_style('white')\n",
        "# (181 + 314) Low Urban % Low Intersections Low Walkability Eg: City Outskirts Industrial Areas\n",
        "# (317) Low Urban % High Intersections and High Walkability Eg: City Outskirts Residential areas or Villages\n",
        "# (220 + 176) Moderately High Urban % Medium Intersections and Medium Walkability Eg: Moderately developed parts of City\n",
        "# (136) High Urban % High Intersections and High Walkability Eg: Very dense Residential Parts of main City.\n",
        "\n",
        "# Class_1 = np.copy(preprocessed2_a) \n",
        "# Class_1_Box = np.copy(list2_a) \n",
        "# label = [1] * Class_1.shape[0] \n",
        "# label = np.asarray(label).reshape(-1,1) \n",
        "# Class_1 = np.hstack((Class_1,label))\n",
        "\n",
        "# Class_2 = np.vstack((preprocessed2_b,preprocessed2_c)) \n",
        "# Class_2_Box = np.vstack((list2_b,list2_c)) \n",
        "# label = [2] * Class_2.shape[0]\n",
        "# label = np.asarray(label).reshape(-1,1) \n",
        "# Class_2 = np.hstack((Class_2,label))\n",
        "\n",
        "# Class_3 = np.copy(preprocessed1_a)\n",
        "# Class_3_Box = np.copy(list1_a) \n",
        "# label = [3] * Class_3.shape[0] \n",
        "# label = np.asarray(label).reshape(-1,1) \n",
        "# Class_3 = np.hstack((Class_3,label))\n",
        "\n",
        "# Class_4 = np.vstack((preprocessed1_b,preprocessed1_c)) \n",
        "# Class_4_Box = np.vstack((list1_b,list1_c)) \n",
        "# label = [4] * Class_4.shape[0] \n",
        "# label = np.asarray(label).reshape(-1,1) \n",
        "# Class_4 = np.hstack((Class_4,label))\n",
        "\n",
        "Class_1 = np.copy(preprocessed2_a) \n",
        "Class_1_Box = np.copy(list2_a) \n",
        "label = [1] * Class_1.shape[0] \n",
        "label = np.asarray(label).reshape(-1,1) \n",
        "Class_1 = np.hstack((Class_1,label))\n",
        "\n",
        "Class_2 = np.vstack((preprocessed2_b,preprocessed2_c)) \n",
        "Class_2_Box = np.vstack((list2_b,list2_c)) \n",
        "label = [2] * Class_2.shape[0]\n",
        "label = np.asarray(label).reshape(-1,1) \n",
        "Class_2 = np.hstack((Class_2,label))\n",
        "\n",
        "Class_3 = np.copy(preprocessed1_a)\n",
        "Class_3_Box = np.copy(list1_a)\n",
        "label = [3] * Class_3.shape[0] \n",
        "label = np.asarray(label).reshape(-1,1) \n",
        "Class_3 = np.hstack((Class_3,label))\n",
        "\n",
        "Class_4 = np.copy(preprocessed1_b)\n",
        "Class_4_Box = np.copy(list1_b)\n",
        "label = [5] * Class_4.shape[0] \n",
        "label = np.asarray(label).reshape(-1,1) \n",
        "Class_4 = np.hstack((Class_4,label))\n",
        "\n",
        "Class_5 = np.copy(preprocessed1_c)\n",
        "Class_5_Box = np.copy(list1_c)\n",
        "label = [4] * Class_5.shape[0] \n",
        "label = np.asarray(label).reshape(-1,1) \n",
        "Class_5 = np.hstack((Class_5,label))\n",
        "\n",
        "print(Class_1.shape) \n",
        "print(Class_2.shape) \n",
        "print(Class_3.shape) \n",
        "print(Class_4.shape)\n",
        "print(Class_5.shape)\n",
        "\n",
        "fig7, ax7 = plt.subplots()\n",
        "# ax7.set_title(str(Class_1_Box.shape[0]) + \":Class I\")\n",
        "ax7.set_ylim(-0.1,1.1)\n",
        "ax7.boxplot(Class_1_Box, labels = ['3 way', '4 way', 'WR', 'urb_footprint'])\n",
        "for tick in ax7.xaxis.get_major_ticks():\n",
        "                tick.label.set_fontsize(14)\n",
        "\n",
        "for tick in ax7.yaxis.get_major_ticks():\n",
        "                tick.label.set_fontsize(14)\n",
        "plt.show()\n",
        "\n",
        "fig7, ax7 = plt.subplots()\n",
        "# ax7.set_title(str(Class_2_Box.shape[0]) + \":Class II\")\n",
        "ax7.set_ylim(-0.1,1.1)\n",
        "ax7.boxplot(Class_2_Box, labels = ['3 way', '4 way', 'WR', 'urb_footprint'])\n",
        "for tick in ax7.xaxis.get_major_ticks():\n",
        "                tick.label.set_fontsize(14)\n",
        "\n",
        "for tick in ax7.yaxis.get_major_ticks():\n",
        "                tick.label.set_fontsize(14)\n",
        "plt.show()\n",
        "\n",
        "fig7, ax7 = plt.subplots()\n",
        "# ax7.set_title(str(Class_3_Box.shape[0]) + \":Class III\")\n",
        "ax7.set_ylim(-0.1,1.1)\n",
        "ax7.boxplot(Class_3_Box, labels = ['3 way', '4 way', 'WR', 'urb_footprint'])\n",
        "for tick in ax7.xaxis.get_major_ticks():\n",
        "                tick.label.set_fontsize(14)\n",
        "\n",
        "for tick in ax7.yaxis.get_major_ticks():\n",
        "                tick.label.set_fontsize(14)\n",
        "plt.show()\n",
        "\n",
        "fig7, ax7 = plt.subplots()\n",
        "# ax7.set_title(str(Class_4_Box.shape[0]) + \":Class V\")\n",
        "ax7.set_ylim(-0.1,1.1)\n",
        "ax7.boxplot(Class_4_Box, labels = ['3 way', '4 way', 'WR', 'urb_footprint'])\n",
        "for tick in ax7.xaxis.get_major_ticks():\n",
        "                tick.label.set_fontsize(14)\n",
        "\n",
        "for tick in ax7.yaxis.get_major_ticks():\n",
        "                tick.label.set_fontsize(14)\n",
        "plt.show()\n",
        "\n",
        "fig7, ax7 = plt.subplots()\n",
        "# ax7.set_title(str(Class_5_Box.shape[0]) + \":Class IV\")\n",
        "ax7.set_ylim(-0.1,1.1)\n",
        "ax7.boxplot(Class_5_Box, labels = ['3 way', '4 way', 'WR', 'urb_footprint'])\n",
        "for tick in ax7.xaxis.get_major_ticks():\n",
        "                tick.label.set_fontsize(14)\n",
        "\n",
        "for tick in ax7.yaxis.get_major_ticks():\n",
        "                tick.label.set_fontsize(14)\n",
        "plt.show()"
      ],
      "execution_count": 0,
      "outputs": [
        {
          "output_type": "stream",
          "text": [
            "(181, 13)\n",
            "(631, 13)\n",
            "(220, 13)\n",
            "(176, 13)\n",
            "(136, 13)\n"
          ],
          "name": "stdout"
        },
        {
          "output_type": "display_data",
          "data": {
            "image/png": "[encoded data removed]",
            "text/plain": [
              "<Figure size 432x288 with 1 Axes>"
            ]
          },
          "metadata": {
            "tags": []
          }
        },
        {
          "output_type": "display_data",
          "data": {
            "image/png": "[encoded data removed]",
            "text/plain": [
              "<Figure size 432x288 with 1 Axes>"
            ]
          },
          "metadata": {
            "tags": []
          }
        },
        {
          "output_type": "display_data",
          "data": {
            "image/png": "[encoded data removed]",
            "text/plain": [
              "<Figure size 432x288 with 1 Axes>"
            ]
          },
          "metadata": {
            "tags": []
          }
        },
        {
          "output_type": "display_data",
          "data": {
            "image/png": "[encoded data removed]",
            "text/plain": [
              "<Figure size 432x288 with 1 Axes>"
            ]
          },
          "metadata": {
            "tags": []
          }
        },
        {
          "output_type": "display_data",
          "data": {
            "image/png": "[encoded data removed]",
            "text/plain": [
              "<Figure size 432x288 with 1 Axes>"
            ]
          },
          "metadata": {
            "tags": []
          }
        }
      ]
    },
    {
      "cell_type": "code",
      "metadata": {
        "id": "f_j7tP6oPWH_",
        "colab_type": "code",
        "outputId": "739d9e58-616b-4ba5-86a0-b7a3162cf94d",
        "colab": {
          "base_uri": "https://localhost:8080/",
          "height": 1000
        }
      },
      "source": [
        "Table = np.vstack((Class_1,Class_2,Class_3,Class_4,Class_5))\n",
        "print(Table.shape)\n",
        "figure, axes = plt.subplots(nrows=7, ncols=1, figsize=(5,35))\n",
        "lat1 = np.array([12.6400,12.9500,28.4000,28.2000,17.2900,22.4900,18.8900]) \n",
        "lat2 = np.array([13.2300,13.1400,28.8900,28.5500,17.4800,22.6300,19.2700]) \n",
        "lon1 = np.array([77.3200,80.1600,76.8300,76.6300,78.3800,88.2700,72.7700]) \n",
        "lon2 = np.array([77.8300,80.3100,77.3400,77.2400,78.5400,88.4100,72.9900])\n",
        "\n",
        "# 1.Bangalore 2.Chennai 3.Delhi 4.Gurgaon 5.Hyderabad 6.Kolkata 7.Mumbai\n",
        "\n",
        "size = [10]*7 \n",
        "size[0]=9 \n",
        "size[1]=100 \n",
        "size[3]=9 \n",
        "size[4]=100 \n",
        "size[6] = 30 \n",
        "size[5] = 130 \n",
        "height = [] \n",
        "width = [] \n",
        "dist_name = [\"Bangalore\",\"Chennai\",\"Delhi\",\"Gurgaon\",\"Hyderabad\",\"Kolkata\",\"Mumbai\"]\n",
        "\n",
        "for i in range(0,7): \n",
        "  height.append(round((lat2[i]-lat1[i])*100.0)) \n",
        "  width.append(round((lon2[i]-lon1[i])*100.0))\n",
        "\n",
        "print(len(height)) \n",
        "print(len(width))\n",
        "\n",
        "for i in range(0,7): \n",
        "  axes[i].set_xlim(0,width[i]) \n",
        "  axes[i].set_ylim(0,height[i])\n",
        "  axes[i].scatter([],[],c=\"r\",label=\"Class V\")\n",
        "  axes[i].scatter([],[],c=\"b\",label=\"Class IV\") \n",
        "  axes[i].scatter([],[],c=\"c\",label=\"Class III\") \n",
        "  axes[i].scatter([],[],c=\"g\",label=\"Class II\") \n",
        "  axes[i].scatter([],[],c=\"y\",label=\"Class I\")\n",
        "\n",
        "for i in range(Table.shape[0]): \n",
        "  grid_no = int(Table[i][0]) \n",
        "  dist_id = int(Table[i][8]) - 1 \n",
        "  label = int(Table[i][-1])\n",
        "\n",
        "  x_coordinate = grid_no // height[dist_id] \n",
        "  y_coordinate = grid_no % height[dist_id]\n",
        "\n",
        "  if label == 5: \n",
        "    axes[dist_id].scatter(x_coordinate,y_coordinate,marker='s',c=\"r\",s=size[dist_id])\n",
        "  elif label == 4: \n",
        "    axes[dist_id].scatter(x_coordinate,y_coordinate,marker='s',c=\"b\",s=size[dist_id]) \n",
        "  elif label == 3: \n",
        "    axes[dist_id].scatter(x_coordinate,y_coordinate,marker='s',c=\"c\",s=size[dist_id]) \n",
        "  elif label == 2: \n",
        "    axes[dist_id].scatter(x_coordinate,y_coordinate,marker='s',c=\"g\",s=size[dist_id])\n",
        "  else: \n",
        "    axes[dist_id].scatter(x_coordinate,y_coordinate,marker='s',c=\"y\",s=size[dist_id])\n",
        "\n",
        "for i in range(0,7): \n",
        "\taxes[i].legend() \n",
        "\taxes[i].set_xlabel(\"Number of grids (\" + dist_name[i] + \")\") \n",
        "\taxes[i].set_ylabel(\"Number of grids\") \n",
        "\taxes[i].set_aspect('equal',adjustable='box')\n",
        "\n",
        "# plt.legend()\n",
        "\n",
        "figure.tight_layout()\n",
        "plt.show()\n",
        "print(height)\n",
        "print(width)"
      ],
      "execution_count": 0,
      "outputs": [
        {
          "output_type": "stream",
          "text": [
            "(1344, 13)\n",
            "7\n",
            "7\n"
          ],
          "name": "stdout"
        },
        {
          "output_type": "display_data",
          "data": {
            "image/png": "[encoded data removed]",
            "text/plain": [
              "<Figure size 360x2520 with 7 Axes>"
            ]
          },
          "metadata": {
            "tags": []
          }
        },
        {
          "output_type": "stream",
          "text": [
            "[59.0, 19.0, 49.0, 35.0, 19.0, 14.0, 38.0]\n",
            "[51.0, 15.0, 51.0, 61.0, 16.0, 14.0, 22.0]\n"
          ],
          "name": "stdout"
        }
      ]
    },
    {
      "cell_type": "code",
      "metadata": {
        "id": "nvLy_OM9ZU-A",
        "colab_type": "code",
        "outputId": "c18a9305-3471-4b48-a272-cd390fdf09e0",
        "colab": {
          "base_uri": "https://localhost:8080/",
          "height": 69
        }
      },
      "source": [
        "min_wr = Table[:,5].min()\n",
        "max_wr = Table[:,5].max()\n",
        "r = (max_wr - min_wr)/3\n",
        "th1 = min_wr + r\n",
        "th2 = min_wr + 2*r\n",
        "wr_label = []\n",
        "for i in range(Table.shape[0]):\n",
        "  if(Table[i][5] < th1):\n",
        "    wr_label.append(0)\n",
        "  elif(Table[i][5] < th2):\n",
        "    wr_label.append(1)\n",
        "  else:\n",
        "    wr_label.append(2)\n",
        "\n",
        "print(wr_label.count(0))\n",
        "print(wr_label.count(1))\n",
        "print(wr_label.count(2))"
      ],
      "execution_count": 0,
      "outputs": [
        {
          "output_type": "stream",
          "text": [
            "78\n",
            "497\n",
            "769\n"
          ],
          "name": "stdout"
        }
      ]
    },
    {
      "cell_type": "code",
      "metadata": {
        "id": "-UjHHJv4buN6",
        "colab_type": "code",
        "outputId": "780bd0a9-1c0f-4f6a-8cb1-2760833df3a9",
        "colab": {
          "base_uri": "https://localhost:8080/",
          "height": 1000
        }
      },
      "source": [
        "from matplotlib.font_manager import FontProperties\n",
        "\n",
        "fontP = FontProperties()\n",
        "fontP.set_size('small')\n",
        "\n",
        "figure, axes = plt.subplots(nrows=7, ncols=1, figsize=(5,35))\n",
        "lat1 = np.array([12.6400,12.9500,28.4000,28.2000,17.2900,22.4900,18.8900]) \n",
        "lat2 = np.array([13.2300,13.1400,28.8900,28.5500,17.4800,22.6300,19.2700]) \n",
        "lon1 = np.array([77.3200,80.1600,76.8300,76.6300,78.3800,88.2700,72.7700]) \n",
        "lon2 = np.array([77.8300,80.3100,77.3400,77.2400,78.5400,88.4100,72.9900])\n",
        "\n",
        "# 1.Bangalore 2.Chennai 3.Delhi 4.Gurgaon 5.Hyderabad 6.Kolkata 7.Mumbai\n",
        "\n",
        "size = [10]*7 \n",
        "size[0]=9 \n",
        "size[1]=100 \n",
        "size[3]=9 \n",
        "size[4]=100 \n",
        "size[6] = 30 \n",
        "size[5] = 130 \n",
        "height = [] \n",
        "width = [] \n",
        "dist_name = [\"Bangalore\",\"Chennai\",\"Delhi\",\"Gurgaon\",\"Hyderabad\",\"Kolkata\",\"Mumbai\"]\n",
        "\n",
        "for i in range(0,7): \n",
        "  height.append(round((lat2[i]-lat1[i])*100.0)) \n",
        "  width.append(round((lon2[i]-lon1[i])*100.0))\n",
        "\n",
        "print(len(height)) \n",
        "print(len(width))\n",
        "\n",
        "for i in range(0,7): \n",
        "  axes[i].set_xlim(0,width[i]) \n",
        "  axes[i].set_ylim(0,height[i])\n",
        "  axes[i].scatter([],[],c=\"r\",label=\"Walkability ratio higher than \"+str(th2))\n",
        "  axes[i].scatter([],[],c=\"b\",label=\"Walkability ratio higher than \"+str(th1)) \n",
        "  axes[i].scatter([],[],c=\"gold\",label=\"Walkability ratio lower than \"+str(th1))\n",
        "\n",
        "for i in range(Table.shape[0]): \n",
        "  grid_no = int(Table[i][0]) \n",
        "  dist_id = int(Table[i][8]) - 1 \n",
        "  label = wr_label[i]\n",
        "\n",
        "  x_coordinate = grid_no // height[dist_id] \n",
        "  y_coordinate = grid_no % height[dist_id]\n",
        "\n",
        "  if label == 2: \n",
        "    axes[dist_id].scatter(x_coordinate,y_coordinate,marker='s',c=\"r\",s=size[dist_id])\n",
        "  elif label == 1: \n",
        "    axes[dist_id].scatter(x_coordinate,y_coordinate,marker='s',c=\"b\",s=size[dist_id]) \n",
        "  else: \n",
        "    axes[dist_id].scatter(x_coordinate,y_coordinate,marker='s',c=\"gold\",s=size[dist_id])\n",
        "\n",
        "for i in range(0,7): \n",
        "\taxes[i].legend(prop=fontP) \n",
        "\taxes[i].set_xlabel(\"Number of grids (\" + dist_name[i] + \")\") \n",
        "\taxes[i].set_ylabel(\"Number of grids\") \n",
        "\taxes[i].set_aspect('equal',adjustable='box')\n",
        "\n",
        "# plt.legend()\n",
        "\n",
        "figure.tight_layout()\n",
        "plt.show()"
      ],
      "execution_count": 0,
      "outputs": [
        {
          "output_type": "stream",
          "text": [
            "7\n",
            "7\n"
          ],
          "name": "stdout"
        },
        {
          "output_type": "display_data",
          "data": {
            "image/png": "[encoded data removed]",
            "text/plain": [
              "<Figure size 360x2520 with 7 Axes>"
            ]
          },
          "metadata": {
            "tags": []
          }
        }
      ]
    },
    {
      "cell_type": "code",
      "metadata": {
        "id": "rKyG564ASGpp",
        "colab_type": "code",
        "colab": {}
      },
      "source": [
        "# # ======================================== Bangalore Grid Plot =======================================\n",
        "# import cv2\n",
        "# Red = (0,0,255)\n",
        "# Yellow = (0,215,255)\n",
        "# Light_Green = (47,255,173)\n",
        "# Dark_Green = (0,100,0)\n",
        "# Teal = (50,205,50)\n",
        "\n",
        "# img = np.loadtxt(\"Bangalore_latest.txt\")#######################\n",
        "# grids = np.full((img.shape[0],img.shape[1]),-1)\n",
        "\n",
        "# h = np.floor(img.shape[0]/height[0])#####################\n",
        "# w = np.floor(img.shape[1]/width[0])######################\n",
        "# v_grids = height[0]################################\n",
        "\n",
        "# for i in range(grids.shape[0]):\n",
        "#   for j in range(grids.shape[1]):\n",
        "#     row = round(i/h)\n",
        "#     col = round(j/w)\n",
        "#     grids[i][j] = (col * v_grids) + (v_grids - 1 - row)\n",
        "\n",
        "# d = {}\n",
        "# for i in range(Table.shape[0]):\n",
        "#   if Table[i][8] == 1:#############################\n",
        "#     d[Table[i][0]] = Table[i][-1]\n",
        "\n",
        "# blank_image = np.full((grids.shape[0],grids.shape[1],3), (255,255,255), np.uint8)\n",
        "\n",
        "# for i in range(grids.shape[0]):\n",
        "#   for j in range(grids.shape[1]):\n",
        "#     if img[i][j] == 0:\n",
        "#       blank_image[i][j] = (0,0,0)\n",
        "#     elif grids[i][j] in d.keys():\n",
        "#       label = d[grids[i][j]]\n",
        "#       if label == 1:\n",
        "#         blank_image[i][j] = Yellow\n",
        "#       elif label == 2:\n",
        "#         blank_image[i][j] = Light_Green \n",
        "#       elif label == 3:\n",
        "#         blank_image[i][j] = Teal\n",
        "#       elif label == 4:\n",
        "#         blank_image[i][j] = Dark_Green\n",
        "#       elif label == 5:\n",
        "#         blank_image[i][j] = Red\n",
        "\n",
        "# cv2.imwrite(\"cluster_bangalore_2019.png\",blank_image)#####################\n",
        "# plt.imshow(blank_image)\n",
        "# # ======================================== Chennai Grid Plot =======================================\n",
        "# import cv2\n",
        "# Red = (0,0,255)\n",
        "# Yellow = (0,215,255)\n",
        "# Light_Green = (47,255,173)\n",
        "# Dark_Green = (0,100,0)\n",
        "# Teal = (50,205,50)\n",
        "\n",
        "# img = np.loadtxt(\"Chennai_latest.txt\")#######################\n",
        "# grids = np.full((img.shape[0],img.shape[1]),-1)\n",
        "\n",
        "# h = np.floor(img.shape[0]/height[1])#####################\n",
        "# w = np.floor(img.shape[1]/width[1])######################\n",
        "# v_grids = height[1]################################\n",
        "\n",
        "# for i in range(grids.shape[0]):\n",
        "#   for j in range(grids.shape[1]):\n",
        "#     row = round(i/h)\n",
        "#     col = round(j/w)\n",
        "#     grids[i][j] = (col * v_grids) + (v_grids - 1 - row)\n",
        "\n",
        "# d = {}\n",
        "# for i in range(Table.shape[0]):\n",
        "#   if Table[i][8] == 2:#############################\n",
        "#     d[Table[i][0]] = Table[i][-1]\n",
        "\n",
        "# blank_image = np.full((grids.shape[0],grids.shape[1],3), (255,255,255), np.uint8)\n",
        "\n",
        "# for i in range(grids.shape[0]):\n",
        "#   for j in range(grids.shape[1]):\n",
        "#     if img[i][j] == 0:\n",
        "#       blank_image[i][j] = (0,0,0)\n",
        "#     elif grids[i][j] in d.keys():\n",
        "#       label = d[grids[i][j]]\n",
        "#       if label == 1:\n",
        "#         blank_image[i][j] = Yellow\n",
        "#       elif label == 2:\n",
        "#         blank_image[i][j] = Light_Green \n",
        "#       elif label == 3:\n",
        "#         blank_image[i][j] = Teal\n",
        "#       elif label == 4:\n",
        "#         blank_image[i][j] = Dark_Green\n",
        "#       elif label == 5:\n",
        "#         blank_image[i][j] = Red\n",
        "\n",
        "# cv2.imwrite(\"cluster_chennai_2019.png\",blank_image)#####################\n",
        "# plt.imshow(blank_image)\n",
        "# # ======================================== Delhi Grid Plot =======================================\n",
        "# import cv2\n",
        "# Red = (0,0,255)\n",
        "# Yellow = (0,215,255)\n",
        "# Light_Green = (47,255,173)\n",
        "# Dark_Green = (0,100,0)\n",
        "# Teal = (50,205,50)\n",
        "\n",
        "# img = np.loadtxt(\"Delhi_latest.txt\")#######################\n",
        "# grids = np.full((img.shape[0],img.shape[1]),-1)\n",
        "\n",
        "# h = np.floor(img.shape[0]/height[2])#####################\n",
        "# w = np.floor(img.shape[1]/width[2])######################\n",
        "# v_grids = height[2]################################\n",
        "\n",
        "# for i in range(grids.shape[0]):\n",
        "#   for j in range(grids.shape[1]):\n",
        "#     row = round(i/h)\n",
        "#     col = round(j/w)\n",
        "#     grids[i][j] = (col * v_grids) + (v_grids - 1 - row)\n",
        "\n",
        "# d = {}\n",
        "# for i in range(Table.shape[0]):\n",
        "#   if Table[i][8] == 3:#############################\n",
        "#     d[Table[i][0]] = Table[i][-1]\n",
        "\n",
        "# blank_image = np.full((grids.shape[0],grids.shape[1],3), (255,255,255), np.uint8)\n",
        "\n",
        "# for i in range(grids.shape[0]):\n",
        "#   for j in range(grids.shape[1]):\n",
        "#     if img[i][j] == 0:\n",
        "#       blank_image[i][j] = (0,0,0)\n",
        "#     elif grids[i][j] in d.keys():\n",
        "#       label = d[grids[i][j]]\n",
        "#       if label == 1:\n",
        "#         blank_image[i][j] = Yellow\n",
        "#       elif label == 2:\n",
        "#         blank_image[i][j] = Light_Green \n",
        "#       elif label == 3:\n",
        "#         blank_image[i][j] = Teal\n",
        "#       elif label == 4:\n",
        "#         blank_image[i][j] = Dark_Green\n",
        "#       elif label == 5:\n",
        "#         blank_image[i][j] = Red\n",
        "\n",
        "# cv2.imwrite(\"cluster_delhi_2019.png\",blank_image)#####################\n",
        "# plt.imshow(blank_image)\n",
        "# # ======================================== Gurgaon Grid Plot =======================================\n",
        "# import cv2\n",
        "# Red = (0,0,255)\n",
        "# Yellow = (0,215,255)\n",
        "# Light_Green = (47,255,173)\n",
        "# Dark_Green = (0,100,0)\n",
        "# Teal = (50,205,50)\n",
        "\n",
        "# img = np.loadtxt(\"Gurgaon_latest.txt\")#######################\n",
        "# grids = np.full((img.shape[0],img.shape[1]),-1)\n",
        "\n",
        "# h = np.floor(img.shape[0]/height[3])#####################\n",
        "# w = np.floor(img.shape[1]/width[3])######################\n",
        "# v_grids = height[3]################################\n",
        "\n",
        "# for i in range(grids.shape[0]):\n",
        "#   for j in range(grids.shape[1]):\n",
        "#     row = round(i/h)\n",
        "#     col = round(j/w)\n",
        "#     grids[i][j] = (col * v_grids) + (v_grids - 1 - row)\n",
        "\n",
        "# d = {}\n",
        "# for i in range(Table.shape[0]):\n",
        "#   if Table[i][8] == 4:#############################\n",
        "#     d[Table[i][0]] = Table[i][-1]\n",
        "\n",
        "# blank_image = np.full((grids.shape[0],grids.shape[1],3), (255,255,255), np.uint8)\n",
        "\n",
        "# for i in range(grids.shape[0]):\n",
        "#   for j in range(grids.shape[1]):\n",
        "#     if img[i][j] == 0:\n",
        "#       blank_image[i][j] = (0,0,0)\n",
        "#     elif grids[i][j] in d.keys():\n",
        "#       label = d[grids[i][j]]\n",
        "#       if label == 1:\n",
        "#         blank_image[i][j] = Yellow\n",
        "#       elif label == 2:\n",
        "#         blank_image[i][j] = Light_Green \n",
        "#       elif label == 3:\n",
        "#         blank_image[i][j] = Teal\n",
        "#       elif label == 4:\n",
        "#         blank_image[i][j] = Dark_Green\n",
        "#       elif label == 5:\n",
        "#         blank_image[i][j] = Red\n",
        "\n",
        "# cv2.imwrite(\"cluster_gurgaon_2019.png\",blank_image)#####################\n",
        "# plt.imshow(blank_image)\n",
        "# # ======================================== Hyderabad Grid Plot =======================================\n",
        "# import cv2\n",
        "# Red = (0,0,255)\n",
        "# Yellow = (0,215,255)\n",
        "# Light_Green = (47,255,173)\n",
        "# Dark_Green = (0,100,0)\n",
        "# Teal = (50,205,50)\n",
        "\n",
        "# img = np.loadtxt(\"Hyderabad_latest.txt\")#######################\n",
        "# grids = np.full((img.shape[0],img.shape[1]),-1)\n",
        "\n",
        "# h = np.floor(img.shape[0]/height[4])#####################\n",
        "# w = np.floor(img.shape[1]/width[4])######################\n",
        "# v_grids = height[4]################################\n",
        "\n",
        "# for i in range(grids.shape[0]):\n",
        "#   for j in range(grids.shape[1]):\n",
        "#     row = round(i/h)\n",
        "#     col = round(j/w)\n",
        "#     grids[i][j] = (col * v_grids) + (v_grids - 1 - row)\n",
        "\n",
        "# d = {}\n",
        "# for i in range(Table.shape[0]):\n",
        "#   if Table[i][8] == 5:#############################\n",
        "#     d[Table[i][0]] = Table[i][-1]\n",
        "\n",
        "# blank_image = np.full((grids.shape[0],grids.shape[1],3), (255,255,255), np.uint8)\n",
        "\n",
        "# for i in range(grids.shape[0]):\n",
        "#   for j in range(grids.shape[1]):\n",
        "#     if img[i][j] == 0:\n",
        "#       blank_image[i][j] = (0,0,0)\n",
        "#     elif grids[i][j] in d.keys():\n",
        "#       label = d[grids[i][j]]\n",
        "#       if label == 1:\n",
        "#         blank_image[i][j] = Yellow\n",
        "#       elif label == 2:\n",
        "#         blank_image[i][j] = Light_Green \n",
        "#       elif label == 3:\n",
        "#         blank_image[i][j] = Teal\n",
        "#       elif label == 4:\n",
        "#         blank_image[i][j] = Dark_Green\n",
        "#       elif label == 5:\n",
        "#         blank_image[i][j] = Red\n",
        "\n",
        "# cv2.imwrite(\"cluster_hyderabad_2019.png\",blank_image)#####################\n",
        "# plt.imshow(blank_image)\n",
        "# # ======================================== Kolkata Grid Plot =======================================\n",
        "# import cv2\n",
        "# Red = (0,0,255)\n",
        "# Yellow = (0,215,255)\n",
        "# Light_Green = (47,255,173)\n",
        "# Dark_Green = (0,100,0)\n",
        "# Teal = (50,205,50)\n",
        "\n",
        "# img = np.loadtxt(\"Kolkata_latest.txt\")#######################\n",
        "# grids = np.full((img.shape[0],img.shape[1]),-1)\n",
        "\n",
        "# h = np.floor(img.shape[0]/height[5])#####################\n",
        "# w = np.floor(img.shape[1]/width[5])######################\n",
        "# v_grids = height[5]################################\n",
        "\n",
        "# for i in range(grids.shape[0]):\n",
        "#   for j in range(grids.shape[1]):\n",
        "#     row = round(i/h)\n",
        "#     col = round(j/w)\n",
        "#     grids[i][j] = (col * v_grids) + (v_grids - 1 - row)\n",
        "\n",
        "# d = {}\n",
        "# for i in range(Table.shape[0]):\n",
        "#   if Table[i][8] == 6:#############################\n",
        "#     d[Table[i][0]] = Table[i][-1]\n",
        "\n",
        "# blank_image = np.full((grids.shape[0],grids.shape[1],3), (255,255,255), np.uint8)\n",
        "\n",
        "# for i in range(grids.shape[0]):\n",
        "#   for j in range(grids.shape[1]):\n",
        "#     if img[i][j] == 0:\n",
        "#       blank_image[i][j] = (0,0,0)\n",
        "#     elif grids[i][j] in d.keys():\n",
        "#       label = d[grids[i][j]]\n",
        "#       if label == 1:\n",
        "#         blank_image[i][j] = Yellow\n",
        "#       elif label == 2:\n",
        "#         blank_image[i][j] = Light_Green \n",
        "#       elif label == 3:\n",
        "#         blank_image[i][j] = Teal\n",
        "#       elif label == 4:\n",
        "#         blank_image[i][j] = Dark_Green\n",
        "#       elif label == 5:\n",
        "#         blank_image[i][j] = Red\n",
        "\n",
        "# cv2.imwrite(\"cluster_kolkata_2019.png\",blank_image)#####################\n",
        "# plt.imshow(blank_image)\n",
        "\n",
        "# # ======================================== Mumbai Grid Plot =======================================\n",
        "# import cv2\n",
        "# Red = (0,0,255)\n",
        "# Yellow = (0,215,255)\n",
        "# Light_Green = (47,255,173)\n",
        "# Dark_Green = (0,100,0)\n",
        "# Teal = (50,205,50)\n",
        "\n",
        "# img = np.loadtxt(\"Mumbai_latest.txt\")#######################\n",
        "# grids = np.full((img.shape[0],img.shape[1]),-1)\n",
        "\n",
        "# h = np.floor(img.shape[0]/height[6])#####################\n",
        "# w = np.floor(img.shape[1]/width[6])######################\n",
        "# v_grids = height[6]################################\n",
        "\n",
        "# for i in range(grids.shape[0]):\n",
        "#   for j in range(grids.shape[1]):\n",
        "#     row = round(i/h)\n",
        "#     col = round(j/w)\n",
        "#     grids[i][j] = (col * v_grids) + (v_grids - 1 - row)\n",
        "\n",
        "# d = {}\n",
        "# for i in range(Table.shape[0]):\n",
        "#   if Table[i][8] == 7:#############################\n",
        "#     d[Table[i][0]] = Table[i][-1]\n",
        "\n",
        "# blank_image = np.full((grids.shape[0],grids.shape[1],3), (255,255,255), np.uint8)\n",
        "\n",
        "# for i in range(grids.shape[0]):\n",
        "#   for j in range(grids.shape[1]):\n",
        "#     if img[i][j] == 0:\n",
        "#       blank_image[i][j] = (0,0,0)\n",
        "#     elif grids[i][j] in d.keys():\n",
        "#       label = d[grids[i][j]]\n",
        "#       if label == 1:\n",
        "#         blank_image[i][j] = Yellow\n",
        "#       elif label == 2:\n",
        "#         blank_image[i][j] = Light_Green \n",
        "#       elif label == 3:\n",
        "#         blank_image[i][j] = Teal\n",
        "#       elif label == 4:\n",
        "#         blank_image[i][j] = Dark_Green\n",
        "#       elif label == 5:\n",
        "#         blank_image[i][j] = Red\n",
        "\n",
        "# cv2.imwrite(\"cluster_mumbai_2019.png\",blank_image)#####################\n",
        "# plt.imshow(blank_image)"
      ],
      "execution_count": 0,
      "outputs": []
    },
    {
      "cell_type": "code",
      "metadata": {
        "id": "tQrK_rB1UkBm",
        "colab_type": "code",
        "outputId": "c9c86bd4-e841-4f91-ce60-03bf95541b01",
        "colab": {
          "base_uri": "https://localhost:8080/",
          "height": 382
        }
      },
      "source": [
        "Class_1_Mean = np.mean(Class_1_Box,axis = 0)\n",
        "Class_2_Mean = np.mean(Class_2_Box,axis = 0)\n",
        "Class_3_Mean = np.mean(Class_3_Box,axis = 0)\n",
        "Class_4_Mean = np.mean(Class_4_Box,axis = 0)\n",
        "Class_5_Mean = np.mean(Class_5_Box,axis = 0)\n",
        "print(Class_1_Mean)\n",
        "\n",
        "data1 = pandas.read_csv(\"results_bangalore.csv\")\n",
        "data2 = pandas.read_csv(\"urb_sub_perc_Bangalore_2016.csv\")\n",
        "\n",
        "data1 = numpy.array(data1)\n",
        "# data1 = data1[:, 1:]\n",
        "\n",
        "data2 = numpy.array(data2)\n",
        "data2 = data2[:, 1:]\n",
        "\n",
        "data3 = []\n",
        "for i in range(77325 , 77830 , 10):\n",
        "  for j in range(12645 , 13230 , 10):\n",
        "    data3.append([i/1000,j/1000])\n",
        "\n",
        "final_data_bangalore = numpy.hstack((data1, data2, data3))\n",
        "print(final_data_bangalore.shape)\n",
        "\n",
        "final_data = numpy.copy(final_data_bangalore)\n",
        "# print(final_data.shape)\n",
        "\n",
        "data1 = pandas.read_csv(\"results_chennai.csv\")\n",
        "data2 = pandas.read_csv(\"urb_sub_perc_Chennai_2016.csv\")\n",
        "\n",
        "data1 = numpy.array(data1)\n",
        "# data1 = data1[:, 1:]\n",
        "\n",
        "data2 = numpy.array(data2)\n",
        "data2 = data2[:, 1:]\n",
        "\n",
        "data3 = []\n",
        "for i in range(80165 , 80310 , 10):\n",
        "  for j in range(12955 , 13140 , 10):\n",
        "    data3.append([i/1000,j/1000])\n",
        "\n",
        "final_data_chennai = numpy.hstack((data1, data2, data3))\n",
        "print(final_data_chennai.shape)\n",
        "\n",
        "final_data = numpy.vstack((final_data, final_data_chennai))\n",
        "print(final_data.shape)\n",
        "\n",
        "data1 = pandas.read_csv(\"results_delhi.csv\")\n",
        "data2 = pandas.read_csv(\"urb_sub_perc_Delhi_2016.csv\")\n",
        "\n",
        "data1 = numpy.array(data1)\n",
        "# data1 = data1[:, 1:]\n",
        "\n",
        "data2 = numpy.array(data2)\n",
        "data2 = data2[:, 1:]\n",
        "\n",
        "data3 = []\n",
        "for i in range(76835 , 77340 , 10):\n",
        "  for j in range(28405 , 28890 , 10):\n",
        "    data3.append([i/1000,j/1000])\n",
        "\n",
        "final_data_delhi = numpy.hstack((data1, data2, data3))\n",
        "print(final_data_delhi.shape)\n",
        "\n",
        "final_data = numpy.vstack((final_data, final_data_delhi))\n",
        "print(final_data.shape)\n",
        "\n",
        "data1 = pandas.read_csv(\"results_gurgaon.csv\")\n",
        "data2 = pandas.read_csv(\"urb_sub_perc_Gurgaon_2016.csv\")\n",
        "\n",
        "data1 = numpy.array(data1)\n",
        "# data1 = data1[:, 1:]\n",
        "\n",
        "data2 = numpy.array(data2)\n",
        "data2 = data2[:, 1:]\n",
        "\n",
        "data3 = []\n",
        "for i in range(76635 , 77240 , 10):\n",
        "  for j in range(28205 , 28550 , 10):\n",
        "    data3.append([i/1000,j/1000])\n",
        "\n",
        "final_data_gurgaon = numpy.hstack((data1, data2, data3))\n",
        "print(final_data_gurgaon.shape)\n",
        "\n",
        "final_data = numpy.vstack((final_data, final_data_gurgaon))\n",
        "print(final_data.shape)\n",
        "\n",
        "data1 = pandas.read_csv(\"results_hyderabad.csv\")\n",
        "data2 = pandas.read_csv(\"urb_sub_perc_Hyderabad_2016.csv\")\n",
        "\n",
        "data1 = numpy.array(data1)\n",
        "# data1 = data1[:, 1:]\n",
        "\n",
        "data2 = numpy.array(data2)\n",
        "data2 = data2[:, 1:]\n",
        "\n",
        "data3 = []\n",
        "for i in range(78385 , 78540 , 10):\n",
        "  for j in range(17295 , 17480 , 10):\n",
        "    data3.append([i/1000,j/1000])\n",
        "\n",
        "final_data_hyderabad = numpy.hstack((data1, data2, data3))\n",
        "print(final_data_hyderabad.shape)\n",
        "\n",
        "final_data = numpy.vstack((final_data, final_data_hyderabad))\n",
        "print(final_data.shape)\n",
        "\n",
        "data1 = pandas.read_csv(\"results_mumbai.csv\")\n",
        "data2 = pandas.read_csv(\"urb_sub_perc_Mumbai_2016.csv\")\n",
        "\n",
        "data1 = numpy.array(data1)\n",
        "# data1 = data1[:, 1:]\n",
        "\n",
        "data2 = numpy.array(data2)\n",
        "data2 = data2[:, 1:]\n",
        "\n",
        "data3 = []\n",
        "for i in range(72775 , 72990 , 10):\n",
        "  for j in range(18895 , 19270 , 10):\n",
        "    data3.append([i/1000,j/1000])\n",
        "\n",
        "data3 = numpy.array(data3)\n",
        "final_data_mumbai = numpy.hstack((data1, data2, data3))\n",
        "print(final_data_mumbai.shape)\n",
        "\n",
        "final_data = numpy.vstack((final_data, final_data_mumbai))\n",
        "print(final_data.shape)\n",
        "\n",
        "data1 = pandas.read_csv(\"results_kolkata.csv\")\n",
        "data2 = pandas.read_csv(\"urb_sub_perc_Kolkata_2016.csv\")\n",
        "\n",
        "data1 = numpy.array(data1)\n",
        "# data1 = data1[:, 1:]\n",
        "\n",
        "data2 = numpy.array(data2)\n",
        "data2 = data2[:, 1:]\n",
        "\n",
        "data3 = []\n",
        "for i in range(88275 , 88410 , 10):\n",
        "  for j in range(22495 , 22630 , 10):\n",
        "    data3.append([i/1000,j/1000])\n",
        "\n",
        "final_data_kolkata = numpy.hstack((data1, data2, data3))\n",
        "print(final_data_kolkata.shape)\n",
        "\n",
        "final_data = numpy.vstack((final_data, final_data_kolkata))\n",
        "print(final_data)\n",
        "\n",
        "import numpy \n",
        "\n",
        "preprocessed_2016 = numpy.copy(final_data)\n",
        "\n",
        "for i in range (0, preprocessed_2016.shape[0]):\n",
        "\n",
        "  if(preprocessed_2016[i][8] == 'Bangalore_latest'):\n",
        "    preprocessed_2016[i][8] = 1\n",
        "\n",
        "  elif(preprocessed_2016[i][8] == 'Chennai_latest'):\n",
        "    preprocessed_2016[i][8] = 2\n",
        "\n",
        "  elif(preprocessed_2016[i][8] == 'Delhi_latest'):\n",
        "    preprocessed_2016[i][8] = 3\n",
        "\n",
        "  elif(preprocessed_2016[i][8] == 'Gurgaon_latest'):\n",
        "    preprocessed_2016[i][8] = 4\n",
        "\n",
        "  elif(preprocessed_2016[i][8] == 'Hyderabad_latest'):\n",
        "    preprocessed_2016[i][8] = 5\n",
        "\n",
        "  elif(preprocessed_2016[i][8] == 'Kolkata_latest'):\n",
        "    preprocessed_2016[i][8] = 6\n",
        "\n",
        "  else:\n",
        "    preprocessed_2016[i][8] = 7\n",
        "\n",
        "\n",
        "for i in range (0, preprocessed_2016.shape[0]):\n",
        "\n",
        "  if(preprocessed_2016[i][9] == 'Selected'):\n",
        "    preprocessed_2016[i][9] = 1\n",
        "\n",
        "  else:\n",
        "    preprocessed_2016[i][9] = numpy.nan\n",
        "\n",
        "preprocessed_2016 = numpy.array(preprocessed_2016, dtype = 'float')\n",
        "\n",
        "# nan = grid discarded for being outside district instead of being rural\n",
        "\n",
        "preprocessed_2016 = preprocessed_2016[~numpy.isnan(preprocessed_2016).any(axis=1)]\n",
        "\n",
        "preprocessed_2016.shape\n",
        "\n",
        "\n"
      ],
      "execution_count": 0,
      "outputs": [
        {
          "output_type": "stream",
          "text": [
            "[0.08686065 0.08210093 0.3749186  0.19940287]\n",
            "(3009, 12)\n",
            "(285, 12)\n",
            "(3294, 12)\n",
            "(2499, 12)\n",
            "(5793, 12)\n",
            "(2135, 12)\n",
            "(7928, 12)\n",
            "(304, 12)\n",
            "(8232, 12)\n",
            "(836, 12)\n",
            "(9068, 12)\n",
            "(196, 12)\n",
            "[[0.0 2.0 0.0 ... 'Rejected' 77.325 12.645]\n",
            " [1.0 1.0 0.0 ... 'Rejected' 77.325 12.655]\n",
            " [2.0 16.0 1.0 ... 'Rejected' 77.325 12.665]\n",
            " ...\n",
            " [193.0 223.0 28.0 ... 'Rejected' 88.405 22.605]\n",
            " [194.0 207.0 16.0 ... 'Rejected' 88.405 22.615]\n",
            " [195.0 145.0 8.0 ... 'Rejected' 88.405 22.625]]\n"
          ],
          "name": "stdout"
        },
        {
          "output_type": "execute_result",
          "data": {
            "text/plain": [
              "(1200, 12)"
            ]
          },
          "metadata": {
            "tags": []
          },
          "execution_count": 38
        }
      ]
    },
    {
      "cell_type": "code",
      "metadata": {
        "colab_type": "code",
        "outputId": "74f2220b-718e-4966-c0d2-39e61544ef54",
        "id": "eW4aFqHZY9_0",
        "colab": {
          "base_uri": "https://localhost:8080/",
          "height": 52
        }
      },
      "source": [
        "left = numpy.copy(preprocessed_2016[:,1:3])\n",
        "right = numpy.copy(preprocessed_2016[:,5:])\n",
        "input_data_2016 = numpy.hstack((left, right))\n",
        "input_data_final_2016 = input_data_2016[:, :-5]\n",
        "from sklearn.preprocessing import minmax_scale\n",
        "norm_input_data_2016 = minmax_scale(input_data_final_2016, feature_range=(0,1), axis=0)\n",
        "norm_input_data_2016 = minmax_scale(norm_input_data_2016, feature_range=(0,1), axis=0)\n",
        "norm_input_data_2016[:, 0:2] = norm_input_data_2016[:, 0:2] + 1\n",
        "norm_input_data_2016[:, 0:2] = numpy.log2(norm_input_data_2016[:, 0:2])\n",
        "print(norm_input_data_2016.shape)\n",
        "\n",
        "label_2016 = [0]*norm_input_data_2016.shape[0]\n",
        "label_2016 = (np.asarray(label_2016)).reshape(-1,1)\n",
        "preprocessed_2016 = np.hstack((preprocessed_2016,label_2016))\n",
        "print(preprocessed_2016.shape)\n",
        "\n",
        "for i in range(preprocessed_2016.shape[0]):\n",
        "  L1 = np.linalg.norm(norm_input_data_2016[i] - Class_1_Mean)\n",
        "  L2 = np.linalg.norm(norm_input_data_2016[i] - Class_2_Mean)\n",
        "  L3 = np.linalg.norm(norm_input_data_2016[i] - Class_3_Mean)\n",
        "  L4 = np.linalg.norm(norm_input_data_2016[i] - Class_4_Mean)\n",
        "  L5 = np.linalg.norm(norm_input_data_2016[i] - Class_5_Mean)\n",
        "\n",
        "  M = min(L1,L2,L3,L4,L5)\n",
        "  if(M == L1):\n",
        "    preprocessed_2016[i][-1] = 1\n",
        "  elif(M == L2):\n",
        "    preprocessed_2016[i][-1] = 2\n",
        "  elif(M == L3):\n",
        "    preprocessed_2016[i][-1] = 3\n",
        "  elif(M == L4):\n",
        "    preprocessed_2016[i][-1] = 5\n",
        "  elif(M == L5):\n",
        "    preprocessed_2016[i][-1] = 4\n",
        "  else:\n",
        "    print(\"Error Assigning Minimum\")"
      ],
      "execution_count": 0,
      "outputs": [
        {
          "output_type": "stream",
          "text": [
            "(1200, 4)\n",
            "(1200, 13)\n"
          ],
          "name": "stdout"
        }
      ]
    },
    {
      "cell_type": "code",
      "metadata": {
        "id": "W2gaCMyDhS8L",
        "colab_type": "code",
        "outputId": "edcabac4-7831-4283-aa11-bdfaca1f414b",
        "colab": {
          "base_uri": "https://localhost:8080/",
          "height": 1000
        }
      },
      "source": [
        "figure, axes = plt.subplots(nrows=7, ncols=1, figsize=(5,35))\n",
        "lat1 = np.array([12.6400,12.9500,28.4000,28.2000,17.2900,22.4900,18.8900]) \n",
        "lat2 = np.array([13.2300,13.1400,28.8900,28.5500,17.4800,22.6300,19.2700]) \n",
        "lon1 = np.array([77.3200,80.1600,76.8300,76.6300,78.3800,88.2700,72.7700]) \n",
        "lon2 = np.array([77.8300,80.3100,77.3400,77.2400,78.5400,88.4100,72.9900])\n",
        "\n",
        "# 1.Bangalore 2.Chennai 3.Delhi 4.Gurgaon 5.Hyderabad 6.Kolkata 7.Mumbai\n",
        "\n",
        "size = [10]*7 \n",
        "size[0]=9 \n",
        "size[1]=100 \n",
        "size[3]=9 \n",
        "size[4]=100 \n",
        "size[6] = 30 \n",
        "size[5] = 130 \n",
        "height = [] \n",
        "width = [] \n",
        "dist_name = [\"Bangalore\",\"Chennai\",\"Delhi\",\"Gurgaon\",\"Hyderabad\",\"Kolkata\",\"Mumbai\"]\n",
        "\n",
        "for i in range(0,7): \n",
        "  height.append(round((lat2[i]-lat1[i])*100.0)) \n",
        "  width.append(round((lon2[i]-lon1[i])*100.0))\n",
        "\n",
        "print(len(height)) \n",
        "print(len(width))\n",
        "\n",
        "for i in range(0,7): \n",
        "  axes[i].set_xlim(0,width[i]) \n",
        "  axes[i].set_ylim(0,height[i])\n",
        "  axes[i].scatter([],[],c=\"r\",label=\"Class V\")\n",
        "  axes[i].scatter([],[],c=\"b\",label=\"Class IV\") \n",
        "  axes[i].scatter([],[],c=\"c\",label=\"Class III\") \n",
        "  axes[i].scatter([],[],c=\"g\",label=\"Class II\") \n",
        "  axes[i].scatter([],[],c=\"y\",label=\"Class I\")\n",
        "\n",
        "for i in range(preprocessed_2016.shape[0]): \n",
        "  grid_no = int(preprocessed_2016[i][0]) \n",
        "  dist_id = int(preprocessed_2016[i][8]) - 1 \n",
        "  label = int(preprocessed_2016[i][-1])\n",
        "\n",
        "  x_coordinate = grid_no // height[dist_id] \n",
        "  y_coordinate = grid_no % height[dist_id]\n",
        "\n",
        "  if label == 5: \n",
        "    axes[dist_id].scatter(x_coordinate,y_coordinate,marker='s',c=\"r\",s=size[dist_id])\n",
        "  elif label == 4: \n",
        "    axes[dist_id].scatter(x_coordinate,y_coordinate,marker='s',c=\"b\",s=size[dist_id]) \n",
        "  elif label == 3: \n",
        "    axes[dist_id].scatter(x_coordinate,y_coordinate,marker='s',c=\"c\",s=size[dist_id]) \n",
        "  elif label == 2: \n",
        "    axes[dist_id].scatter(x_coordinate,y_coordinate,marker='s',c=\"g\",s=size[dist_id])\n",
        "  else: \n",
        "    axes[dist_id].scatter(x_coordinate,y_coordinate,marker='s',c=\"y\",s=size[dist_id])\n",
        "\n",
        "for i in range(0,7): \n",
        "\taxes[i].legend() \n",
        "\taxes[i].set_xlabel(\"Number of grids (\" + dist_name[i] + \")\") \n",
        "\taxes[i].set_ylabel(\"Number of grids\") \n",
        "\taxes[i].set_aspect('equal',adjustable='box')\n",
        "\n",
        "# plt.legend()\n",
        "\n",
        "figure.tight_layout()\n",
        "plt.show()"
      ],
      "execution_count": 0,
      "outputs": [
        {
          "output_type": "stream",
          "text": [
            "7\n",
            "7\n"
          ],
          "name": "stdout"
        },
        {
          "output_type": "display_data",
          "data": {
            "image/png": "[encoded data removed]",
            "text/plain": [
              "<Figure size 360x2520 with 7 Axes>"
            ]
          },
          "metadata": {
            "tags": []
          }
        }
      ]
    },
    {
      "cell_type": "code",
      "metadata": {
        "colab_type": "code",
        "id": "Lg-U9WQEiAZT",
        "colab": {}
      },
      "source": [
        "# # ======================================== Bangalore Grid Plot =======================================\n",
        "# import cv2\n",
        "# Red = (0,0,255)\n",
        "# Yellow = (0,215,255)\n",
        "# Light_Green = (47,255,173)\n",
        "# Dark_Green = (0,100,0)\n",
        "# Teal = (50,205,50)\n",
        "\n",
        "# img = np.loadtxt(\"Bangalore_2016.txt\")#######################\n",
        "# grids = np.full((img.shape[0],img.shape[1]),-1)\n",
        "\n",
        "# h = np.floor(img.shape[0]/height[0])#####################\n",
        "# w = np.floor(img.shape[1]/width[0])######################\n",
        "# v_grids = height[0]################################\n",
        "\n",
        "# for i in range(grids.shape[0]):\n",
        "#   for j in range(grids.shape[1]):\n",
        "#     row = round(i/h)\n",
        "#     col = round(j/w)\n",
        "#     grids[i][j] = (col * v_grids) + (v_grids - 1 - row)\n",
        "\n",
        "# d = {}\n",
        "# for i in range(preprocessed_2016.shape[0]):\n",
        "#   if preprocessed_2016[i][8] == 1:#############################\n",
        "#     d[preprocessed_2016[i][0]] = preprocessed_2016[i][-1]\n",
        "\n",
        "# blank_image = np.full((grids.shape[0],grids.shape[1],3), (255,255,255), np.uint8)\n",
        "\n",
        "# for i in range(grids.shape[0]):\n",
        "#   for j in range(grids.shape[1]):\n",
        "#     if img[i][j] == 0:\n",
        "#       blank_image[i][j] = (0,0,0)\n",
        "#     elif grids[i][j] in d.keys():\n",
        "#       label = d[grids[i][j]]\n",
        "#       if label == 1:\n",
        "#         blank_image[i][j] = Yellow\n",
        "#       elif label == 2:\n",
        "#         blank_image[i][j] = Light_Green \n",
        "#       elif label == 3:\n",
        "#         blank_image[i][j] = Teal\n",
        "#       elif label == 4:\n",
        "#         blank_image[i][j] = Dark_Green\n",
        "#       elif label == 5:\n",
        "#         blank_image[i][j] = Red\n",
        "\n",
        "# cv2.imwrite(\"cluster_bangalore_2016.png\",blank_image)#####################\n",
        "# plt.imshow(blank_image)\n",
        "\n",
        "# # ======================================== Chennai Grid Plot =======================================\n",
        "# import cv2\n",
        "# Red = (0,0,255)\n",
        "# Yellow = (0,215,255)\n",
        "# Light_Green = (47,255,173)\n",
        "# Dark_Green = (0,100,0)\n",
        "# Teal = (50,205,50)\n",
        "\n",
        "# img = np.loadtxt(\"Chennai_2016.txt\")#######################\n",
        "# grids = np.full((img.shape[0],img.shape[1]),-1)\n",
        "\n",
        "# h = np.floor(img.shape[0]/height[1])#####################\n",
        "# w = np.floor(img.shape[1]/width[1])######################\n",
        "# v_grids = height[1]################################\n",
        "\n",
        "# for i in range(grids.shape[0]):\n",
        "#   for j in range(grids.shape[1]):\n",
        "#     row = round(i/h)\n",
        "#     col = round(j/w)\n",
        "#     grids[i][j] = (col * v_grids) + (v_grids - 1 - row)\n",
        "\n",
        "# d = {}\n",
        "# for i in range(preprocessed_2016.shape[0]):\n",
        "#   if preprocessed_2016[i][8] == 2:#############################\n",
        "#     d[preprocessed_2016[i][0]] = preprocessed_2016[i][-1]\n",
        "\n",
        "# blank_image = np.full((grids.shape[0],grids.shape[1],3), (255,255,255), np.uint8)\n",
        "\n",
        "# for i in range(grids.shape[0]):\n",
        "#   for j in range(grids.shape[1]):\n",
        "#     if img[i][j] == 0:\n",
        "#       blank_image[i][j] = (0,0,0)\n",
        "#     elif grids[i][j] in d.keys():\n",
        "#       label = d[grids[i][j]]\n",
        "#       if label == 1:\n",
        "#         blank_image[i][j] = Yellow\n",
        "#       elif label == 2:\n",
        "#         blank_image[i][j] = Light_Green \n",
        "#       elif label == 3:\n",
        "#         blank_image[i][j] = Teal\n",
        "#       elif label == 4:\n",
        "#         blank_image[i][j] = Dark_Green\n",
        "#       elif label == 5:\n",
        "#         blank_image[i][j] = Red\n",
        "\n",
        "# cv2.imwrite(\"cluster_chennai_2016.png\",blank_image)#####################\n",
        "# plt.imshow(blank_image)\n",
        "\n",
        "# # ======================================== Delhi Grid Plot =======================================\n",
        "# import cv2\n",
        "# Red = (0,0,255)\n",
        "# Yellow = (0,215,255)\n",
        "# Light_Green = (47,255,173)\n",
        "# Dark_Green = (0,100,0)\n",
        "# Teal = (50,205,50)\n",
        "\n",
        "# img = np.loadtxt(\"Delhi_2016.txt\")#######################\n",
        "# grids = np.full((img.shape[0],img.shape[1]),-1)\n",
        "\n",
        "# h = np.floor(img.shape[0]/height[2])#####################\n",
        "# w = np.floor(img.shape[1]/width[2])######################\n",
        "# v_grids = height[2]################################\n",
        "\n",
        "# for i in range(grids.shape[0]):\n",
        "#   for j in range(grids.shape[1]):\n",
        "#     row = round(i/h)\n",
        "#     col = round(j/w)\n",
        "#     grids[i][j] = (col * v_grids) + (v_grids - 1 - row)\n",
        "\n",
        "# d = {}\n",
        "# for i in range(preprocessed_2016.shape[0]):\n",
        "#   if preprocessed_2016[i][8] == 3:#############################\n",
        "#     d[preprocessed_2016[i][0]] = preprocessed_2016[i][-1]\n",
        "\n",
        "# blank_image = np.full((grids.shape[0],grids.shape[1],3), (255,255,255), np.uint8)\n",
        "\n",
        "# for i in range(grids.shape[0]):\n",
        "#   for j in range(grids.shape[1]):\n",
        "#     if img[i][j] == 0:\n",
        "#       blank_image[i][j] = (0,0,0)\n",
        "#     elif grids[i][j] in d.keys():\n",
        "#       label = d[grids[i][j]]\n",
        "#       if label == 1:\n",
        "#         blank_image[i][j] = Yellow\n",
        "#       elif label == 2:\n",
        "#         blank_image[i][j] = Light_Green \n",
        "#       elif label == 3:\n",
        "#         blank_image[i][j] = Teal\n",
        "#       elif label == 4:\n",
        "#         blank_image[i][j] = Dark_Green\n",
        "#       elif label == 5:\n",
        "#         blank_image[i][j] = Red\n",
        "\n",
        "# cv2.imwrite(\"cluster_delhi_2016.png\",blank_image)#####################\n",
        "# plt.imshow(blank_image)\n",
        "\n",
        "# # ======================================== Gurgaon Grid Plot =======================================\n",
        "# import cv2\n",
        "# Red = (0,0,255)\n",
        "# Yellow = (0,215,255)\n",
        "# Light_Green = (47,255,173)\n",
        "# Dark_Green = (0,100,0)\n",
        "# Teal = (50,205,50)\n",
        "\n",
        "# img = np.loadtxt(\"Gurgaon_2016.txt\")#######################\n",
        "# grids = np.full((img.shape[0],img.shape[1]),-1)\n",
        "\n",
        "# h = np.floor(img.shape[0]/height[3])#####################\n",
        "# w = np.floor(img.shape[1]/width[3])######################\n",
        "# v_grids = height[3]################################\n",
        "\n",
        "# for i in range(grids.shape[0]):\n",
        "#   for j in range(grids.shape[1]):\n",
        "#     row = round(i/h)\n",
        "#     col = round(j/w)\n",
        "#     grids[i][j] = (col * v_grids) + (v_grids - 1 - row)\n",
        "\n",
        "# d = {}\n",
        "# for i in range(preprocessed_2016.shape[0]):\n",
        "#   if preprocessed_2016[i][8] == 4:#############################\n",
        "#     d[preprocessed_2016[i][0]] = preprocessed_2016[i][-1]\n",
        "\n",
        "# blank_image = np.full((grids.shape[0],grids.shape[1],3), (255,255,255), np.uint8)\n",
        "\n",
        "# for i in range(grids.shape[0]):\n",
        "#   for j in range(grids.shape[1]):\n",
        "#     if img[i][j] == 0:\n",
        "#       blank_image[i][j] = (0,0,0)\n",
        "#     elif grids[i][j] in d.keys():\n",
        "#       label = d[grids[i][j]]\n",
        "#       if label == 1:\n",
        "#         blank_image[i][j] = Yellow\n",
        "#       elif label == 2:\n",
        "#         blank_image[i][j] = Light_Green \n",
        "#       elif label == 3:\n",
        "#         blank_image[i][j] = Teal\n",
        "#       elif label == 4:\n",
        "#         blank_image[i][j] = Dark_Green\n",
        "#       elif label == 5:\n",
        "#         blank_image[i][j] = Red\n",
        "\n",
        "# cv2.imwrite(\"cluster_gurgaon_2016.png\",blank_image)#####################\n",
        "# plt.imshow(blank_image)\n",
        "\n",
        "# # ======================================== Hyderabad Grid Plot =======================================\n",
        "# import cv2\n",
        "# Red = (0,0,255)\n",
        "# Yellow = (0,215,255)\n",
        "# Light_Green = (47,255,173)\n",
        "# Dark_Green = (0,100,0)\n",
        "# Teal = (50,205,50)\n",
        "\n",
        "# img = np.loadtxt(\"Hyderabad_2016.txt\")#######################\n",
        "# grids = np.full((img.shape[0],img.shape[1]),-1)\n",
        "\n",
        "# h = np.floor(img.shape[0]/height[4])#####################\n",
        "# w = np.floor(img.shape[1]/width[4])######################\n",
        "# v_grids = height[4]################################\n",
        "\n",
        "# for i in range(grids.shape[0]):\n",
        "#   for j in range(grids.shape[1]):\n",
        "#     row = round(i/h)\n",
        "#     col = round(j/w)\n",
        "#     grids[i][j] = (col * v_grids) + (v_grids - 1 - row)\n",
        "\n",
        "# d = {}\n",
        "# for i in range(preprocessed_2016.shape[0]):\n",
        "#   if preprocessed_2016[i][8] == 5:#############################\n",
        "#     d[preprocessed_2016[i][0]] = preprocessed_2016[i][-1]\n",
        "\n",
        "# blank_image = np.full((grids.shape[0],grids.shape[1],3), (255,255,255), np.uint8)\n",
        "\n",
        "# for i in range(grids.shape[0]):\n",
        "#   for j in range(grids.shape[1]):\n",
        "#     if img[i][j] == 0:\n",
        "#       blank_image[i][j] = (0,0,0)\n",
        "#     elif grids[i][j] in d.keys():\n",
        "#       label = d[grids[i][j]]\n",
        "#       if label == 1:\n",
        "#         blank_image[i][j] = Yellow\n",
        "#       elif label == 2:\n",
        "#         blank_image[i][j] = Light_Green \n",
        "#       elif label == 3:\n",
        "#         blank_image[i][j] = Teal\n",
        "#       elif label == 4:\n",
        "#         blank_image[i][j] = Dark_Green\n",
        "#       elif label == 5:\n",
        "#         blank_image[i][j] = Red\n",
        "\n",
        "# cv2.imwrite(\"cluster_hyderabad_2016.png\",blank_image)#####################\n",
        "# plt.imshow(blank_image)\n",
        "\n",
        "# # ======================================== Kolkata Grid Plot =======================================\n",
        "# import cv2\n",
        "# Red = (0,0,255)\n",
        "# Yellow = (0,215,255)\n",
        "# Light_Green = (47,255,173)\n",
        "# Dark_Green = (0,100,0)\n",
        "# Teal = (50,205,50)\n",
        "\n",
        "# img = np.loadtxt(\"Kolkata_2016.txt\")#######################\n",
        "# grids = np.full((img.shape[0],img.shape[1]),-1)\n",
        "\n",
        "# h = np.floor(img.shape[0]/height[5])#####################\n",
        "# w = np.floor(img.shape[1]/width[5])######################\n",
        "# v_grids = height[5]################################\n",
        "\n",
        "# for i in range(grids.shape[0]):\n",
        "#   for j in range(grids.shape[1]):\n",
        "#     row = round(i/h)\n",
        "#     col = round(j/w)\n",
        "#     grids[i][j] = (col * v_grids) + (v_grids - 1 - row)\n",
        "\n",
        "# d = {}\n",
        "# for i in range(preprocessed_2016.shape[0]):\n",
        "#   if preprocessed_2016[i][8] == 6:#############################\n",
        "#     d[preprocessed_2016[i][0]] = preprocessed_2016[i][-1]\n",
        "\n",
        "# blank_image = np.full((grids.shape[0],grids.shape[1],3), (255,255,255), np.uint8)\n",
        "\n",
        "# for i in range(grids.shape[0]):\n",
        "#   for j in range(grids.shape[1]):\n",
        "#     if img[i][j] == 0:\n",
        "#       blank_image[i][j] = (0,0,0)\n",
        "#     elif grids[i][j] in d.keys():\n",
        "#       label = d[grids[i][j]]\n",
        "#       if label == 1:\n",
        "#         blank_image[i][j] = Yellow\n",
        "#       elif label == 2:\n",
        "#         blank_image[i][j] = Light_Green \n",
        "#       elif label == 3:\n",
        "#         blank_image[i][j] = Teal\n",
        "#       elif label == 4:\n",
        "#         blank_image[i][j] = Dark_Green\n",
        "#       elif label == 5:\n",
        "#         blank_image[i][j] = Red\n",
        "\n",
        "# cv2.imwrite(\"cluster_kolkata_2016.png\",blank_image)#####################\n",
        "# plt.imshow(blank_image)\n",
        "\n",
        "\n",
        "# # ======================================== Mumbai Grid Plot =======================================\n",
        "# import cv2\n",
        "# Red = (0,0,255)\n",
        "# Yellow = (0,215,255)\n",
        "# Light_Green = (47,255,173)\n",
        "# Dark_Green = (0,100,0)\n",
        "# Teal = (50,205,50)\n",
        "\n",
        "# img = np.loadtxt(\"Mumbai_2016.txt\")#######################\n",
        "# grids = np.full((img.shape[0],img.shape[1]),-1)\n",
        "\n",
        "# h = np.floor(img.shape[0]/height[6])#####################\n",
        "# w = np.floor(img.shape[1]/width[6])######################\n",
        "# v_grids = height[6]################################\n",
        "\n",
        "# for i in range(grids.shape[0]):\n",
        "#   for j in range(grids.shape[1]):\n",
        "#     row = round(i/h)\n",
        "#     col = round(j/w)\n",
        "#     grids[i][j] = (col * v_grids) + (v_grids - 1 - row)\n",
        "\n",
        "# d = {}\n",
        "# for i in range(preprocessed_2016.shape[0]):\n",
        "#   if preprocessed_2016[i][8] == 7:#############################\n",
        "#     d[preprocessed_2016[i][0]] = preprocessed_2016[i][-1]\n",
        "\n",
        "# blank_image = np.full((grids.shape[0],grids.shape[1],3), (255,255,255), np.uint8)\n",
        "\n",
        "# for i in range(grids.shape[0]):\n",
        "#   for j in range(grids.shape[1]):\n",
        "#     if img[i][j] == 0:\n",
        "#       blank_image[i][j] = (0,0,0)\n",
        "#     elif grids[i][j] in d.keys():\n",
        "#       label = d[grids[i][j]]\n",
        "#       if label == 1:\n",
        "#         blank_image[i][j] = Yellow\n",
        "#       elif label == 2:\n",
        "#         blank_image[i][j] = Light_Green \n",
        "#       elif label == 3:\n",
        "#         blank_image[i][j] = Teal\n",
        "#       elif label == 4:\n",
        "#         blank_image[i][j] = Dark_Green\n",
        "#       elif label == 5:\n",
        "#         blank_image[i][j] = Red\n",
        "\n",
        "# cv2.imwrite(\"cluster_mumbai_2016.png\",blank_image)#####################\n",
        "# plt.imshow(blank_image)"
      ],
      "execution_count": 0,
      "outputs": []
    },
    {
      "cell_type": "code",
      "metadata": {
        "id": "ue2zLwYgptzf",
        "colab_type": "code",
        "colab": {}
      },
      "source": [
        "def conv_to_dos(a):\n",
        "  dos = {}\n",
        "  for i in range (a.shape[0]):\n",
        "    grid_no = int(a[i][0]) \n",
        "    dist_id = int(a[i][8])\n",
        "    label = int(a[i][-1])\n",
        "    key = dist_id*10 + label\n",
        "    try:\n",
        "        dos[key].add(grid_no)\n",
        "    except KeyError:\n",
        "        dos[key] = {grid_no}\n",
        "    \n",
        "\n",
        "  for i in range (1,8):\n",
        "    for j in range (1,6):\n",
        "      k = 10*i + j\n",
        "      if k not in dos.keys():\n",
        "        dos[k] = set()\n",
        "  return dos\n",
        "\n",
        "def pretty_print(a):\n",
        "  s = [[str(e) for e in row] for row in a]\n",
        "  lens = [max(map(len, col)) for col in zip(*s)]\n",
        "  fmt = '\\t'.join('{{:{}}}'.format(x) for x in lens)\n",
        "  table = [fmt.format(*row) for row in s]\n",
        "  print ('\\n'.join(table))\n"
      ],
      "execution_count": 0,
      "outputs": []
    },
    {
      "cell_type": "code",
      "metadata": {
        "id": "MOE7YAEFUnOs",
        "colab_type": "code",
        "outputId": "eec317e6-bee7-46e3-dbd5-c55aafbad5c0",
        "colab": {
          "base_uri": "https://localhost:8080/",
          "height": 1000
        }
      },
      "source": [
        "dos_2016 = conv_to_dos(preprocessed_2016)\n",
        "dos_2019 = conv_to_dos(Table)\n",
        "cluster_wise_freq_2016 = np.zeros(shape=(7,5))\n",
        "# print(dos_2019)\n",
        "mat = np.zeros(shape=(5,5))\n",
        "for i in range(1,8):\n",
        "  mat = np.zeros(shape=(5,5))\n",
        "  for j in range (1,6):\n",
        "    for k in range (1,6):\n",
        "      key_2016 = 10*i + j\n",
        "      key_2019 = 10*i + k\n",
        "      mat[j-1][k-1] = len(dos_2016[key_2016].intersection(dos_2019[key_2019]))\n",
        "  print(dist_name[i-1])\n",
        "  C1_2019 = float(len(dos_2019[10*i+1]))\n",
        "  C1_2016 = float(len(dos_2016[10*i+1]))\n",
        "  cluster_wise_freq_2016[i-1][0] = C1_2016\n",
        "  try:\n",
        "    p = 100*(C1_2019-C1_2016)/(C1_2016)\n",
        "  except ZeroDivisionError:\n",
        "    p = float('inf')\n",
        "  print(\"% change in C1 cluster: \", round(p,2))\n",
        "  print(\"#C1_2019: \",C1_2019)\n",
        "  print(\"#C1_2016: \",C1_2016)\n",
        "\n",
        "  C2_2019 = float(len(dos_2019[10*i+2]))\n",
        "  C2_2016 = float(len(dos_2016[10*i+2]))\n",
        "  cluster_wise_freq_2016[i-1][1] = C2_2016\n",
        "  try:\n",
        "    p = 100*(C2_2019-C2_2016)/(C2_2016)\n",
        "  except ZeroDivisionError:\n",
        "    p = float('inf')\n",
        "  print(\"% change in C2 cluster: \", round(p,2))\n",
        "  print(\"#C2_2019: \",C2_2019)\n",
        "  print(\"#C2_2016: \",C2_2016)\n",
        "  \n",
        "  C3_2019 = float(len(dos_2019[10*i+3]))\n",
        "  C3_2016 = float(len(dos_2016[10*i+3]))\n",
        "  cluster_wise_freq_2016[i-1][2] = C3_2016\n",
        "  try:\n",
        "    p = 100*(C3_2019-C3_2016)/(C3_2016)\n",
        "  except ZeroDivisionError:\n",
        "    p = float('inf')\n",
        "  print(\"% change in C3 cluster: \", round(p,2))\n",
        "  print(\"#C3_2019: \",C3_2019)\n",
        "  print(\"#C3_2016: \",C3_2016)\n",
        "\n",
        "  C4_2019 = float(len(dos_2019[10*i+4]))\n",
        "  C4_2016 = float(len(dos_2016[10*i+4]))\n",
        "  cluster_wise_freq_2016[i-1][3] = C4_2016\n",
        "  try:\n",
        "    p = 100*(C4_2019-C4_2016)/(C4_2016)\n",
        "  except ZeroDivisionError:\n",
        "    p = float('inf')\n",
        "  print(\"% change in C4 cluster: \", round(p,2))\n",
        "  print(\"#C4_2019: \",C4_2019)\n",
        "  print(\"#C4_2016: \",C4_2016)\n",
        "\n",
        "  C5_2019 = float(len(dos_2019[10*i+5]))\n",
        "  C5_2016 = float(len(dos_2016[10*i+5]))\n",
        "  cluster_wise_freq_2016[i-1][4] = C5_2016\n",
        "  try:\n",
        "    p = 100*(C5_2019-C5_2016)/(C5_2016)\n",
        "  except ZeroDivisionError:\n",
        "    p = float('inf')\n",
        "  print(\"% change in C5 cluster: \", round(p,2))\n",
        "  print(\"#C5_2019: \",C5_2019)\n",
        "  print(\"#C5_2016: \",C5_2016)\n",
        "\n",
        "  pretty_print(mat)\n",
        "print(\"cluster_wise_freq_2016\")\n",
        "pretty_print(cluster_wise_freq_2016)"
      ],
      "execution_count": 0,
      "outputs": [
        {
          "output_type": "stream",
          "text": [
            "Bangalore\n",
            "% change in C1 cluster:  0.0\n",
            "#C1_2019:  4.0\n",
            "#C1_2016:  4.0\n",
            "% change in C2 cluster:  54.67\n",
            "#C2_2019:  116.0\n",
            "#C2_2016:  75.0\n",
            "% change in C3 cluster:  15.79\n",
            "#C3_2019:  22.0\n",
            "#C3_2016:  19.0\n",
            "% change in C4 cluster:  33.33\n",
            "#C4_2019:  4.0\n",
            "#C4_2016:  3.0\n",
            "% change in C5 cluster:  inf\n",
            "#C5_2019:  3.0\n",
            "#C5_2016:  0.0\n",
            "1.0\t3.0 \t0.0 \t0.0\t0.0\n",
            "0.0\t69.0\t6.0 \t0.0\t0.0\n",
            "0.0\t0.0 \t15.0\t1.0\t3.0\n",
            "0.0\t0.0 \t0.0 \t3.0\t0.0\n",
            "0.0\t0.0 \t0.0 \t0.0\t0.0\n",
            "Chennai\n",
            "% change in C1 cluster:  -40.0\n",
            "#C1_2019:  6.0\n",
            "#C1_2016:  10.0\n",
            "% change in C2 cluster:  1.43\n",
            "#C2_2019:  71.0\n",
            "#C2_2016:  70.0\n",
            "% change in C3 cluster:  17.24\n",
            "#C3_2019:  34.0\n",
            "#C3_2016:  29.0\n",
            "% change in C4 cluster:  0.0\n",
            "#C4_2019:  5.0\n",
            "#C4_2016:  5.0\n",
            "% change in C5 cluster:  0.0\n",
            "#C5_2019:  9.0\n",
            "#C5_2016:  9.0\n",
            "6.0\t3.0 \t1.0 \t0.0\t0.0\n",
            "0.0\t64.0\t6.0 \t0.0\t0.0\n",
            "0.0\t2.0 \t27.0\t0.0\t0.0\n",
            "0.0\t0.0 \t0.0 \t4.0\t1.0\n",
            "0.0\t0.0 \t0.0 \t1.0\t8.0\n",
            "Delhi\n",
            "% change in C1 cluster:  -13.43\n",
            "#C1_2019:  116.0\n",
            "#C1_2016:  134.0\n",
            "% change in C2 cluster:  41.84\n",
            "#C2_2019:  200.0\n",
            "#C2_2016:  141.0\n",
            "% change in C3 cluster:  -3.53\n",
            "#C3_2019:  82.0\n",
            "#C3_2016:  85.0\n",
            "% change in C4 cluster:  10.96\n",
            "#C4_2019:  81.0\n",
            "#C4_2016:  73.0\n",
            "% change in C5 cluster:  5.77\n",
            "#C5_2019:  110.0\n",
            "#C5_2016:  104.0\n",
            "91.0\t33.0 \t7.0 \t0.0 \t3.0 \n",
            "3.0 \t133.0\t5.0 \t0.0 \t0.0 \n",
            "0.0 \t4.0  \t68.0\t5.0 \t8.0 \n",
            "0.0 \t0.0  \t1.0 \t72.0\t0.0 \n",
            "1.0 \t0.0  \t0.0 \t4.0 \t99.0\n",
            "Gurgaon\n",
            "% change in C1 cluster:  -14.29\n",
            "#C1_2019:  18.0\n",
            "#C1_2016:  21.0\n",
            "% change in C2 cluster:  38.0\n",
            "#C2_2019:  69.0\n",
            "#C2_2016:  50.0\n",
            "% change in C3 cluster:  -9.09\n",
            "#C3_2019:  10.0\n",
            "#C3_2016:  11.0\n",
            "% change in C4 cluster:  0.0\n",
            "#C4_2019:  6.0\n",
            "#C4_2016:  6.0\n",
            "% change in C5 cluster:  18.18\n",
            "#C5_2019:  13.0\n",
            "#C5_2016:  11.0\n",
            "15.0\t5.0 \t1.0\t0.0\t0.0 \n",
            "0.0 \t48.0\t2.0\t0.0\t0.0 \n",
            "0.0 \t2.0 \t7.0\t0.0\t2.0 \n",
            "0.0 \t0.0 \t0.0\t5.0\t1.0 \n",
            "0.0 \t0.0 \t0.0\t1.0\t10.0\n",
            "Hyderabad\n",
            "% change in C1 cluster:  -50.0\n",
            "#C1_2019:  1.0\n",
            "#C1_2016:  2.0\n",
            "% change in C2 cluster:  -2.44\n",
            "#C2_2019:  40.0\n",
            "#C2_2016:  41.0\n",
            "% change in C3 cluster:  36.0\n",
            "#C3_2019:  34.0\n",
            "#C3_2016:  25.0\n",
            "% change in C4 cluster:  12.0\n",
            "#C4_2019:  28.0\n",
            "#C4_2016:  25.0\n",
            "% change in C5 cluster:  -22.22\n",
            "#C5_2019:  7.0\n",
            "#C5_2016:  9.0\n",
            "1.0\t1.0 \t0.0 \t0.0 \t0.0\n",
            "0.0\t32.0\t8.0 \t1.0 \t0.0\n",
            "0.0\t2.0 \t22.0\t1.0 \t0.0\n",
            "0.0\t0.0 \t1.0 \t23.0\t1.0\n",
            "0.0\t0.0 \t0.0 \t3.0 \t6.0\n",
            "Kolkata\n",
            "% change in C1 cluster:  -33.33\n",
            "#C1_2019:  2.0\n",
            "#C1_2016:  3.0\n",
            "% change in C2 cluster:  38.46\n",
            "#C2_2019:  36.0\n",
            "#C2_2016:  26.0\n",
            "% change in C3 cluster:  0.0\n",
            "#C3_2019:  9.0\n",
            "#C3_2016:  9.0\n",
            "% change in C4 cluster:  12.5\n",
            "#C4_2019:  9.0\n",
            "#C4_2016:  8.0\n",
            "% change in C5 cluster:  50.0\n",
            "#C5_2019:  3.0\n",
            "#C5_2016:  2.0\n",
            "2.0\t1.0 \t0.0\t0.0\t0.0\n",
            "0.0\t23.0\t3.0\t0.0\t0.0\n",
            "0.0\t1.0 \t6.0\t2.0\t0.0\n",
            "0.0\t0.0 \t0.0\t7.0\t1.0\n",
            "0.0\t0.0 \t0.0\t0.0\t2.0\n",
            "Mumbai\n",
            "% change in C1 cluster:  -46.88\n",
            "#C1_2019:  34.0\n",
            "#C1_2016:  64.0\n",
            "% change in C2 cluster:  41.43\n",
            "#C2_2019:  99.0\n",
            "#C2_2016:  70.0\n",
            "% change in C3 cluster:  7.41\n",
            "#C3_2019:  29.0\n",
            "#C3_2016:  27.0\n",
            "% change in C4 cluster:  0.0\n",
            "#C4_2019:  3.0\n",
            "#C4_2016:  3.0\n",
            "% change in C5 cluster:  19.23\n",
            "#C5_2019:  31.0\n",
            "#C5_2016:  26.0\n",
            "31.0\t26.0\t5.0 \t0.0\t2.0 \n",
            "1.0 \t67.0\t2.0 \t0.0\t0.0 \n",
            "0.0 \t2.0 \t22.0\t0.0\t3.0 \n",
            "0.0 \t0.0 \t0.0 \t3.0\t0.0 \n",
            "0.0 \t0.0 \t0.0 \t0.0\t26.0\n",
            "cluster_wise_freq_2016\n",
            "4.0  \t75.0 \t19.0\t3.0 \t0.0  \n",
            "10.0 \t70.0 \t29.0\t5.0 \t9.0  \n",
            "134.0\t141.0\t85.0\t73.0\t104.0\n",
            "21.0 \t50.0 \t11.0\t6.0 \t11.0 \n",
            "2.0  \t41.0 \t25.0\t25.0\t9.0  \n",
            "3.0  \t26.0 \t9.0 \t8.0 \t2.0  \n",
            "64.0 \t70.0 \t27.0\t3.0 \t26.0 \n"
          ],
          "name": "stdout"
        }
      ]
    },
    {
      "cell_type": "code",
      "metadata": {
        "id": "36uFE8DvuzGH",
        "colab_type": "code",
        "outputId": "68c4e2f8-1903-4639-e4b3-e11299b4fde7",
        "colab": {
          "base_uri": "https://localhost:8080/",
          "height": 1000
        }
      },
      "source": [
        "no_of_grids_2016 = {}\n",
        "for i in range(1,8):\n",
        "  s = 0\n",
        "  for j in range (1,6):\n",
        "    s = s + len(dos_2016[10*i+j])\n",
        "  no_of_grids_2016[i] = s\n",
        "\n",
        "no_of_grids_2019 = {}\n",
        "for i in range(1,8):\n",
        "  s = 0\n",
        "  for j in range (1,6):\n",
        "    s = s + len(dos_2019[10*i+j])\n",
        "  no_of_grids_2019[i] = s\n",
        "\n",
        "grids_in_2016 = {}\n",
        "for i in range(1,8):\n",
        "  u = set()\n",
        "  for j in range(1,6):\n",
        "    key = 10*i + j\n",
        "    u = u.union(dos_2016[key])\n",
        "  app = u.copy()\n",
        "  grids_in_2016[i] = app\n",
        "\n",
        "print(no_of_grids_2016)\n",
        "print(no_of_grids_2019)\n",
        "\n",
        "mat = np.zeros(shape=(5,5))\n",
        "for i in range(1,8):\n",
        "  mat = np.zeros(shape=(5,5))\n",
        "  for j in range (1,6):\n",
        "    for k in range (1,6):\n",
        "      key_2016 = 10*i + j\n",
        "      key_2019 = 10*i + k\n",
        "      mat[j-1][k-1] = round(100*len(dos_2016[key_2016].intersection(dos_2019[key_2019]))/cluster_wise_freq_2016[i-1][j-1],2)\n",
        "  print(dist_name[i-1])\n",
        "  print(\"Total No. of Selected Grids: \",no_of_grids_2016[i])\n",
        "  pretty_print(mat)\n",
        "  null = np.zeros(shape=(5,))\n",
        "  for j in range(1,6):\n",
        "    key = 10*i+j\n",
        "    null[j-1] = len(dos_2019[key].difference(grids_in_2016[i]))\n",
        "  print(\"Null:\")\n",
        "  null = null.reshape(-1,1)\n",
        "  null = null.T\n",
        "  pretty_print(null)\n"
      ],
      "execution_count": 0,
      "outputs": [
        {
          "output_type": "stream",
          "text": [
            "{1: 101, 2: 123, 3: 537, 4: 99, 5: 102, 6: 48, 7: 190}\n",
            "{1: 149, 2: 125, 3: 589, 4: 116, 5: 110, 6: 59, 7: 196}\n",
            "Bangalore\n",
            "Total No. of Selected Grids:  101\n",
            "25.0\t75.0\t0.0  \t0.0  \t0.0  \n",
            "0.0 \t92.0\t8.0  \t0.0  \t0.0  \n",
            "0.0 \t0.0 \t78.95\t5.26 \t15.79\n",
            "0.0 \t0.0 \t0.0  \t100.0\t0.0  \n",
            "nan \tnan \tnan  \tnan  \tnan  \n",
            "Null:\n",
            "3.0\t44.0\t1.0\t0.0\t0.0\n",
            "Chennai\n",
            "Total No. of Selected Grids:  123\n",
            "60.0\t30.0 \t10.0\t0.0  \t0.0  \n",
            "0.0 \t91.43\t8.57\t0.0  \t0.0  \n",
            "0.0 \t6.9  \t93.1\t0.0  \t0.0  \n",
            "0.0 \t0.0  \t0.0 \t80.0 \t20.0 \n",
            "0.0 \t0.0  \t0.0 \t11.11\t88.89\n",
            "Null:\n",
            "0.0\t2.0\t0.0\t0.0\t0.0\n",
            "Delhi\n",
            "Total No. of Selected Grids:  537\n",
            "67.91\t24.63\t5.22\t0.0  \t2.24 \n",
            "2.13 \t94.33\t3.55\t0.0  \t0.0  \n",
            "0.0  \t4.71 \t80.0\t5.88 \t9.41 \n",
            "0.0  \t0.0  \t1.37\t98.63\t0.0  \n",
            "0.96 \t0.0  \t0.0 \t3.85 \t95.19\n",
            "Null:\n",
            "21.0\t30.0\t1.0\t0.0\t0.0\n",
            "Gurgaon\n",
            "Total No. of Selected Grids:  99\n",
            "71.43\t23.81\t4.76 \t0.0  \t0.0  \n",
            "0.0  \t96.0 \t4.0  \t0.0  \t0.0  \n",
            "0.0  \t18.18\t63.64\t0.0  \t18.18\n",
            "0.0  \t0.0  \t0.0  \t83.33\t16.67\n",
            "0.0  \t0.0  \t0.0  \t9.09 \t90.91\n",
            "Null:\n",
            "3.0\t14.0\t0.0\t0.0\t0.0\n",
            "Hyderabad\n",
            "Total No. of Selected Grids:  102\n",
            "50.0\t50.0 \t0.0  \t0.0  \t0.0  \n",
            "0.0 \t78.05\t19.51\t2.44 \t0.0  \n",
            "0.0 \t8.0  \t88.0 \t4.0  \t0.0  \n",
            "0.0 \t0.0  \t4.0  \t92.0 \t4.0  \n",
            "0.0 \t0.0  \t0.0  \t33.33\t66.67\n",
            "Null:\n",
            "0.0\t5.0\t3.0\t0.0\t0.0\n",
            "Kolkata\n",
            "Total No. of Selected Grids:  48\n",
            "66.67\t33.33\t0.0  \t0.0  \t0.0  \n",
            "0.0  \t88.46\t11.54\t0.0  \t0.0  \n",
            "0.0  \t11.11\t66.67\t22.22\t0.0  \n",
            "0.0  \t0.0  \t0.0  \t87.5 \t12.5 \n",
            "0.0  \t0.0  \t0.0  \t0.0  \t100.0\n",
            "Null:\n",
            "0.0\t11.0\t0.0\t0.0\t0.0\n",
            "Mumbai\n",
            "Total No. of Selected Grids:  190\n",
            "48.44\t40.62\t7.81 \t0.0  \t3.12 \n",
            "1.43 \t95.71\t2.86 \t0.0  \t0.0  \n",
            "0.0  \t7.41 \t81.48\t0.0  \t11.11\n",
            "0.0  \t0.0  \t0.0  \t100.0\t0.0  \n",
            "0.0  \t0.0  \t0.0  \t0.0  \t100.0\n",
            "Null:\n",
            "2.0\t4.0\t0.0\t0.0\t0.0\n"
          ],
          "name": "stdout"
        },
        {
          "output_type": "stream",
          "text": [
            "/usr/local/lib/python3.6/dist-packages/ipykernel_launcher.py:34: RuntimeWarning: invalid value encountered in double_scalars\n"
          ],
          "name": "stderr"
        }
      ]
    },
    {
      "cell_type": "code",
      "metadata": {
        "id": "h3Yqkgn3izc8",
        "colab_type": "code",
        "outputId": "6d78bd80-ebc2-43ed-c45b-670b9d421633",
        "colab": {
          "base_uri": "https://localhost:8080/",
          "height": 434
        }
      },
      "source": [
        "density_2016 = np.zeros(shape=(7,5))\n",
        "for i in range(1,8):\n",
        "  for j in range(1,6):\n",
        "    n = len(dos_2016[10*i+j])\n",
        "    density_2016[i-1][j-1] = n/no_of_grids_2016[i]\n",
        "pretty_print(density_2016)\n",
        "print(\"=======\")\n",
        "density_2019 = np.zeros(shape=(7,5))\n",
        "for i in range(1,8):\n",
        "  for j in range(1,6):\n",
        "    n = len(dos_2019[10*i+j])\n",
        "    density_2019[i-1][j-1] = n/no_of_grids_2019[i]\n",
        "pretty_print(density_2019)\n",
        "print(\"=======\")\n",
        "change_in_density = np.zeros(shape=(7,5))\n",
        "for i in range(0,7):\n",
        "  for j in range(0,5):\n",
        "    change_in_density[i][j] = round(100*(density_2019[i][j] - density_2016[i][j])/density_2016[i][j],2)\n",
        "\n",
        "pretty_print(change_in_density)"
      ],
      "execution_count": 0,
      "outputs": [
        {
          "output_type": "stream",
          "text": [
            "0.039603960396039604\t0.7425742574257426 \t0.18811881188118812\t0.0297029702970297  \t0.0                 \n",
            "0.08130081300813008 \t0.5691056910569106 \t0.23577235772357724\t0.04065040650406504 \t0.07317073170731707 \n",
            "0.24953445065176907 \t0.26256983240223464\t0.15828677839851024\t0.13594040968342644 \t0.19366852886405958 \n",
            "0.21212121212121213 \t0.5050505050505051 \t0.1111111111111111 \t0.06060606060606061 \t0.1111111111111111  \n",
            "0.0196078431372549  \t0.4019607843137255 \t0.24509803921568626\t0.24509803921568626 \t0.08823529411764706 \n",
            "0.0625              \t0.5416666666666666 \t0.1875             \t0.16666666666666666 \t0.041666666666666664\n",
            "0.3368421052631579  \t0.3684210526315789 \t0.14210526315789473\t0.015789473684210527\t0.1368421052631579  \n",
            "=======\n",
            "0.026845637583892617\t0.7785234899328859 \t0.1476510067114094 \t0.026845637583892617\t0.020134228187919462\n",
            "0.048               \t0.568              \t0.272              \t0.04                \t0.072               \n",
            "0.1969439728353141  \t0.3395585738539898 \t0.13921901528013583\t0.13752122241086587 \t0.1867572156196944  \n",
            "0.15517241379310345 \t0.5948275862068966 \t0.08620689655172414\t0.05172413793103448 \t0.11206896551724138 \n",
            "0.00909090909090909 \t0.36363636363636365\t0.3090909090909091 \t0.2545454545454545  \t0.06363636363636363 \n",
            "0.03389830508474576 \t0.6101694915254238 \t0.15254237288135594\t0.15254237288135594 \t0.05084745762711865 \n",
            "0.17346938775510204 \t0.5051020408163265 \t0.14795918367346939\t0.015306122448979591\t0.15816326530612246 \n",
            "=======\n",
            "-32.21\t4.84 \t-21.51\t-9.62 \tinf   \n",
            "-40.96\t-0.19\t15.37 \t-1.6  \t-1.6  \n",
            "-21.08\t29.32\t-12.05\t1.16  \t-3.57 \n",
            "-26.85\t17.78\t-22.41\t-14.66\t0.86  \n",
            "-53.64\t-9.53\t26.11 \t3.85  \t-27.88\n",
            "-45.76\t12.65\t-18.64\t-8.47 \t22.03 \n",
            "-48.5 \t37.1 \t4.12  \t-3.06 \t15.58 \n"
          ],
          "name": "stdout"
        },
        {
          "output_type": "stream",
          "text": [
            "/usr/local/lib/python3.6/dist-packages/ipykernel_launcher.py:18: RuntimeWarning: divide by zero encountered in double_scalars\n"
          ],
          "name": "stderr"
        }
      ]
    },
    {
      "cell_type": "code",
      "metadata": {
        "id": "EPwGG4J4WBiU",
        "colab_type": "code",
        "outputId": "866075b3-eb1b-4870-cb66-4f4e546b89b6",
        "colab": {
          "base_uri": "https://localhost:8080/",
          "height": 173
        }
      },
      "source": [
        "order = {1:3,2:7,3:6,4:2,5:5,6:1,7:4}\n",
        "header = {0:\"2019\",1:\"C1%\",2:\"C2%\",3:\"C3%\",4:\"C4%\",5:\"C5%\"}\n",
        "no_of_grids = {}\n",
        "for i in range(1,8):\n",
        "  s = 0\n",
        "  for j in range (1,6):\n",
        "    s = s + len(dos_2019[10*i+j])\n",
        "  no_of_grids[i] = s\n",
        "\n",
        "print(no_of_grids)\n",
        "\n",
        "perc_table = np.zeros(shape=(8,6))\n",
        "perc_table = np.array(perc_table,dtype='U')\n",
        "for i in range(0,8):\n",
        "  for j in range(0,6):\n",
        "    if i == 0:\n",
        "      perc_table[i][j] = header[j]\n",
        "    else:\n",
        "      if not j == 0: \n",
        "        perc_table[i][j] = round(100*len(dos_2019[10*i+j])/no_of_grids[i],2)\n",
        "      else:\n",
        "        perc_table[i][j] = dist_name[i-1]\n",
        "pretty_print(perc_table)\n",
        "\n"
      ],
      "execution_count": 0,
      "outputs": [
        {
          "output_type": "stream",
          "text": [
            "{1: 149, 2: 125, 3: 589, 4: 116, 5: 110, 6: 59, 7: 196}\n",
            "2019     \tC1%  \tC2%  \tC3%  \tC4%  \tC5%  \n",
            "Bangalore\t2.68 \t77.85\t14.77\t2.68 \t2.01 \n",
            "Chennai  \t4.8  \t56.8 \t27.2 \t4.0  \t7.2  \n",
            "Delhi    \t19.69\t33.96\t13.92\t13.75\t18.68\n",
            "Gurgaon  \t15.52\t59.48\t8.62 \t5.17 \t11.21\n",
            "Hyderabad\t0.91 \t36.36\t30.91\t25.45\t6.36 \n",
            "Kolkata  \t3.39 \t61.02\t15.25\t15.25\t5.08 \n",
            "Mumbai   \t17.35\t50.51\t14.8 \t1.53 \t15.82\n"
          ],
          "name": "stdout"
        }
      ]
    }
  ]
}